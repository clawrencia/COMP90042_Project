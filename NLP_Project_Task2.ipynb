{
  "nbformat": 4,
  "nbformat_minor": 0,
  "metadata": {
    "colab": {
      "name": "NLP_Project_Task2.ipynb",
      "provenance": [],
      "collapsed_sections": [],
      "mount_file_id": "1fskrnJ6jPsChfVIXOnqYFtKX2fn3ENpG",
      "authorship_tag": "ABX9TyPaQBwifQh7QtLMGKxJC+jA",
      "include_colab_link": true
    },
    "kernelspec": {
      "name": "python3",
      "display_name": "Python 3"
    },
    "language_info": {
      "name": "python"
    }
  },
  "cells": [
    {
      "cell_type": "markdown",
      "metadata": {
        "id": "view-in-github",
        "colab_type": "text"
      },
      "source": [
        "<a href=\"https://colab.research.google.com/github/clawrencia/COMP90042_Project/blob/main/NLP_Project_Task2.ipynb\" target=\"_parent\"><img src=\"https://colab.research.google.com/assets/colab-badge.svg\" alt=\"Open In Colab\"/></a>"
      ]
    },
    {
      "cell_type": "markdown",
      "metadata": {
        "id": "ogqyaxWh0Bp6"
      },
      "source": [
        "TASK 2: COVID-19 Topics Extraction and Sentiment Analysis"
      ]
    },
    {
      "cell_type": "code",
      "metadata": {
        "colab": {
          "base_uri": "https://localhost:8080/"
        },
        "id": "oGXVUi5d4eIp",
        "outputId": "755ea0ed-9cca-4c96-93af-92305becd4da"
      },
      "source": [
        "#Mount to G-Drive Files\n",
        "from google.colab import drive\n",
        "drive.mount('/content/drive')"
      ],
      "execution_count": null,
      "outputs": [
        {
          "output_type": "stream",
          "text": [
            "Drive already mounted at /content/drive; to attempt to forcibly remount, call drive.mount(\"/content/drive\", force_remount=True).\n"
          ],
          "name": "stdout"
        }
      ]
    },
    {
      "cell_type": "code",
      "metadata": {
        "colab": {
          "base_uri": "https://localhost:8080/"
        },
        "id": "gheNaPrZNIY2",
        "outputId": "a96d0a8f-50fe-46da-cc09-ff10bf462810"
      },
      "source": [
        "!pip install gensim\n",
        "!pip install 'nltk==3.4.5'\n",
        "!pip install tweet-preprocessor\n",
        "!pip install TextBlob\n"
      ],
      "execution_count": null,
      "outputs": [
        {
          "output_type": "stream",
          "text": [
            "Requirement already satisfied: gensim in /usr/local/lib/python3.7/dist-packages (3.6.0)\n",
            "Requirement already satisfied: smart-open>=1.2.1 in /usr/local/lib/python3.7/dist-packages (from gensim) (5.0.0)\n",
            "Requirement already satisfied: numpy>=1.11.3 in /usr/local/lib/python3.7/dist-packages (from gensim) (1.19.5)\n",
            "Requirement already satisfied: scipy>=0.18.1 in /usr/local/lib/python3.7/dist-packages (from gensim) (1.4.1)\n",
            "Requirement already satisfied: six>=1.5.0 in /usr/local/lib/python3.7/dist-packages (from gensim) (1.15.0)\n",
            "Collecting nltk==3.4.5\n",
            "\u001b[?25l  Downloading https://files.pythonhosted.org/packages/f6/1d/d925cfb4f324ede997f6d47bea4d9babba51b49e87a767c170b77005889d/nltk-3.4.5.zip (1.5MB)\n",
            "\u001b[K     |████████████████████████████████| 1.5MB 6.8MB/s \n",
            "\u001b[?25hRequirement already satisfied: six in /usr/local/lib/python3.7/dist-packages (from nltk==3.4.5) (1.15.0)\n",
            "Building wheels for collected packages: nltk\n",
            "  Building wheel for nltk (setup.py) ... \u001b[?25l\u001b[?25hdone\n",
            "  Created wheel for nltk: filename=nltk-3.4.5-cp37-none-any.whl size=1449910 sha256=a0ce406ee4933360defb8eb606279e6c48b56989bf6843c3f708c747c188b822\n",
            "  Stored in directory: /root/.cache/pip/wheels/96/86/f6/68ab24c23f207c0077381a5e3904b2815136b879538a24b483\n",
            "Successfully built nltk\n",
            "Installing collected packages: nltk\n",
            "  Found existing installation: nltk 3.2.5\n",
            "    Uninstalling nltk-3.2.5:\n",
            "      Successfully uninstalled nltk-3.2.5\n",
            "Successfully installed nltk-3.4.5\n",
            "Collecting tweet-preprocessor\n",
            "  Downloading https://files.pythonhosted.org/packages/17/9d/71bd016a9edcef8860c607e531f30bd09b13103c7951ae73dd2bf174163c/tweet_preprocessor-0.6.0-py3-none-any.whl\n",
            "Installing collected packages: tweet-preprocessor\n",
            "Successfully installed tweet-preprocessor-0.6.0\n",
            "Requirement already satisfied: TextBlob in /usr/local/lib/python3.7/dist-packages (0.15.3)\n",
            "Requirement already satisfied: nltk>=3.1 in /usr/local/lib/python3.7/dist-packages (from TextBlob) (3.4.5)\n",
            "Requirement already satisfied: six in /usr/local/lib/python3.7/dist-packages (from nltk>=3.1->TextBlob) (1.15.0)\n"
          ],
          "name": "stdout"
        }
      ]
    },
    {
      "cell_type": "markdown",
      "metadata": {
        "id": "6zWN2ijfz8kD"
      },
      "source": [
        "Topic Extraction Using LDA"
      ]
    },
    {
      "cell_type": "code",
      "metadata": {
        "id": "FzT-hWJnAFm3"
      },
      "source": [
        "from nltk import word_tokenize\n",
        "from nltk.corpus import stopwords\n",
        "from nltk.stem import WordNetLemmatizer\n",
        "import string\n",
        "import nltk\n",
        "import gensim\n",
        "from gensim.corpora import Dictionary\n",
        "from gensim.models.ldamodel import LdaModel\n",
        "from gensim.models import CoherenceModel\n",
        "import preprocessor as p\n",
        "from textblob import TextBlob\n",
        "import matplotlib.pyplot as plt\n",
        "import seaborn as sns\n",
        "import re"
      ],
      "execution_count": null,
      "outputs": []
    },
    {
      "cell_type": "code",
      "metadata": {
        "colab": {
          "base_uri": "https://localhost:8080/"
        },
        "id": "gtqu-SAJJSt8",
        "outputId": "7f211d35-b15f-40eb-c66f-3ae723eeeb9a"
      },
      "source": [
        "nltk.download('stopwords')\n",
        "nltk.download('punkt')\n",
        "nltk.download('wordnet')"
      ],
      "execution_count": null,
      "outputs": [
        {
          "output_type": "stream",
          "text": [
            "[nltk_data] Downloading package stopwords to /root/nltk_data...\n",
            "[nltk_data]   Unzipping corpora/stopwords.zip.\n",
            "[nltk_data] Downloading package punkt to /root/nltk_data...\n",
            "[nltk_data]   Unzipping tokenizers/punkt.zip.\n",
            "[nltk_data] Downloading package wordnet to /root/nltk_data...\n",
            "[nltk_data]   Unzipping corpora/wordnet.zip.\n"
          ],
          "name": "stderr"
        },
        {
          "output_type": "execute_result",
          "data": {
            "text/plain": [
              "True"
            ]
          },
          "metadata": {
            "tags": []
          },
          "execution_count": 5
        }
      ]
    },
    {
      "cell_type": "code",
      "metadata": {
        "id": "f_XA85uS4Qa1"
      },
      "source": [
        "\n",
        "import json \n",
        "import pandas as pd\n",
        "\n",
        "covid_data_labelled = '/content/drive/MyDrive/Data/covid-labelledv2.json'"
      ],
      "execution_count": null,
      "outputs": []
    },
    {
      "cell_type": "code",
      "metadata": {
        "colab": {
          "base_uri": "https://localhost:8080/"
        },
        "id": "juDNAtmE5ieP",
        "outputId": "ea43ffb3-ac6f-43e5-8ed3-95707a940e9b"
      },
      "source": [
        "#Importing the labelled covid file\n",
        "\n",
        "def load_feat_df(file_path):\n",
        "  line_list = []\n",
        "  with open(file_path) as f:\n",
        "      for line in f:\n",
        "        a_dict= json.loads(line)\n",
        "        df = pd.DataFrame(a_dict)\n",
        "        line_list.append(df)\n",
        "\n",
        "  df = pd.concat(line_list)\n",
        "  return df\n",
        "covid_df=load_feat_df(covid_data_labelled)\n",
        "\n",
        "#Display Size of Data\n",
        "print(covid_df.shape)"
      ],
      "execution_count": null,
      "outputs": [
        {
          "output_type": "stream",
          "text": [
            "(17458, 4)\n"
          ],
          "name": "stdout"
        }
      ]
    },
    {
      "cell_type": "code",
      "metadata": {
        "id": "4LU-tLodKUbw"
      },
      "source": [
        "#Separate Rumour and Non-Rumour Data into 2 different dataframes\n",
        "\n",
        "def separate_labels(dataframe):\n",
        "  rumour =pd.DataFrame(columns=['id_str','text','reply_text'])\n",
        "  nonrumour = pd.DataFrame(columns=['id_str','text','reply_text'])\n",
        "\n",
        "  for index,rows in dataframe.iterrows():\n",
        "    if rows[3] == 'rumour':\n",
        "      rumour = rumour.append(rows,ignore_index=True)\n",
        "      \n",
        "    else:\n",
        "      nonrumour = nonrumour.append(rows,ignore_index=True)\n",
        " \n",
        "  return rumour,nonrumour\n",
        "\n",
        "rumour_df, non_rumour_df =separate_labels(covid_df)"
      ],
      "execution_count": null,
      "outputs": []
    },
    {
      "cell_type": "code",
      "metadata": {
        "colab": {
          "base_uri": "https://localhost:8080/"
        },
        "id": "yrVNzvHyb4MG",
        "outputId": "53c80c3b-95b2-4ca9-81e7-b95af2bc5cdc"
      },
      "source": [
        "#Checking the size of Rumour and Non-Rumour Data\n",
        "rumour_df.shape\n",
        "non_rumour_df.shape"
      ],
      "execution_count": null,
      "outputs": [
        {
          "output_type": "execute_result",
          "data": {
            "text/plain": [
              "(9477, 4)"
            ]
          },
          "metadata": {
            "tags": []
          },
          "execution_count": 11
        }
      ]
    },
    {
      "cell_type": "code",
      "metadata": {
        "id": "JbIXkLhDAmmQ"
      },
      "source": [
        "#Combine the Main Text and Reply Text \n",
        "def combine_text(dataframe):\n",
        "  dataframe['text'] = dataframe['text'].fillna('-')\n",
        "  dataframe['reply_text'] = dataframe['reply_text'].fillna('-')\n",
        "  dataframe['combined'] = dataframe['text'].astype(str)+\"-\"+dataframe['reply_text'].astype(str)\n",
        "\n",
        "  return dataframe\n",
        "\n",
        "rumour_df_combined = combine_text(rumour_df)\n",
        "nonrumour_df_combined = combine_text(non_rumour_df)"
      ],
      "execution_count": null,
      "outputs": []
    },
    {
      "cell_type": "code",
      "metadata": {
        "id": "5c7kpyGT_9eH"
      },
      "source": [
        "#Assigning the stop words for preprocessing \n",
        "#Add punctuations as a part of stop words\n",
        "stop_words = stopwords.words('english')\n",
        "stop_words += list(string.punctuation)\n",
        "\n",
        "lemmatizer = WordNetLemmatizer()\n",
        "\n",
        "#A function to fix encoding errors\n",
        "def fix_encode(text):\n",
        "  text = text.replace(r'&amp;',r'and')\n",
        "  text = text.replace(r'&lt;',r'<')\n",
        "  text = text.replace(r'&gt;',r'>')\n",
        "\n",
        "  return text\n",
        "\n",
        "#A function to tokenize the text\n",
        "def tokenize_text(text):\n",
        "  tokens = word_tokenize(text)\n",
        "  tokens_stopwords_none = [t.lower() for t in tokens if t.lower() not in stop_words]\n",
        "  return tokens_stopwords_none\n",
        "\n",
        "#Remove all punctuations except for #\n",
        "def remove_punctuations(text):\n",
        "  punctuation_list = string.punctuation.replace(\"#\", \"\")\n",
        "  text = text.translate(str.maketrans('', '', punctuation_list))\n",
        "  return text\n",
        "\n",
        "#Remove all emojis, smileys, and url \n",
        "def clean_text(text):\n",
        "  p.set_options(p.OPT.URL, p.OPT.EMOJI,p.OPT.SMILEY)\n",
        "  text = p.clean(str(text))\n",
        "  return text\n",
        "\n",
        "#A function to lemmatize text\n",
        "def lemmatize_text(text):\n",
        "    lemmatized=[]\n",
        "    for word in text:\n",
        "        lemmatized.append(lemmatizer.lemmatize(word))\n",
        "    return lemmatized\n",
        "\n",
        "rumour_text = rumour_df_combined['combined']\n",
        "nonrumour_text = nonrumour_df_combined['combined']\n",
        "\n",
        "rumour_text = rumour_text.apply(clean_text)\n",
        "rumour_text = rumour_text.apply(fix_encode)\n",
        "rumour_text = rumour_text.apply(remove_punctuations)\n",
        "rumour_text = rumour_text.apply(tokenize_text)\n",
        "rumour_text = rumour_text.apply(lemmatize_text)\n",
        "\n",
        "nonrumour_text = nonrumour_text.apply(clean_text)\n",
        "nonrumour_text = nonrumour_text.apply(fix_encode)\n",
        "nonrumour_text = nonrumour_text.apply(remove_punctuations)\n",
        "nonrumour_text = nonrumour_text.apply(tokenize_text)\n",
        "nonrumour_text = nonrumour_text.apply(lemmatize_text)\n"
      ],
      "execution_count": null,
      "outputs": []
    },
    {
      "cell_type": "code",
      "metadata": {
        "id": "wu4yWjo680XK"
      },
      "source": [
        "#convert rumour and non-rumour tokenized words into bag of words\n",
        "rumour_text_dict = Dictionary(rumour_text)\n",
        "nonrumour_text_dict = Dictionary(nonrumour_text)\n",
        "\n",
        "rumour_bagofwords = [rumour_text_dict.doc2bow(tweet) for tweet in rumour_text]\n",
        "nonrumour_bagofwords = [nonrumour_text_dict.doc2bow(tweet) for tweet in nonrumour_text]"
      ],
      "execution_count": null,
      "outputs": []
    },
    {
      "cell_type": "code",
      "metadata": {
        "id": "AjmaMJBkN1ct"
      },
      "source": [
        "\n",
        "#Loop through to find the optimum k-value for rumour and non-rumour\n",
        "\n",
        "rumour_score=[]\n",
        "nonrumour_score=[]\n",
        "for k in range(15):\n",
        "  index = k+1\n",
        "\n",
        "  rumour_lda = LdaModel(rumour_bagofwords,\n",
        "                      num_topics = index,\n",
        "                      id2word = rumour_text_dict,\n",
        "                      random_state =1,\n",
        "                      passes=2,\n",
        "                      chunksize=100)\n",
        "\n",
        "  nonrumour_lda = LdaModel(nonrumour_bagofwords,\n",
        "                      num_topics = index,\n",
        "                      id2word = nonrumour_text_dict,\n",
        "                      random_state =1,\n",
        "                      passes=2,\n",
        "                      chunksize=100)\n",
        "\n",
        "  coherence_model_lda_rum = CoherenceModel(model=rumour_lda, texts=rumour_text, dictionary=rumour_text_dict, coherence='c_v')\n",
        "  coherence_lda_rum = coherence_model_lda_rum.get_coherence()\n",
        "  rumour_score.append(coherence_lda_rum)\n",
        "\n",
        "  coherence_model_lda_nonrum = CoherenceModel(model=rumour_lda, texts=nonrumour_text, dictionary=nonrumour_text_dict, coherence='c_v')\n",
        "  coherence_lda_nonrum = coherence_model_lda_nonrum.get_coherence()\n",
        "  nonrumour_score.append(coherence_lda_nonrum)\n",
        "  print(index)\n",
        " \n"
      ],
      "execution_count": null,
      "outputs": []
    },
    {
      "cell_type": "code",
      "metadata": {
        "id": "wTh_9sfC1Tm8"
      },
      "source": [
        "for i in rumour_score:\n",
        "  print(i)\n",
        "\n",
        "for j in nonrumour_score:\n",
        "  print(j)"
      ],
      "execution_count": null,
      "outputs": []
    },
    {
      "cell_type": "code",
      "metadata": {
        "id": "hewAt367G5Xe"
      },
      "source": [
        "#LDA Model based on the optimized K\n",
        "rumour_lda = LdaModel(rumour_bagofwords,\n",
        "                      num_topics = 13,\n",
        "                      id2word = rumour_text_dict,\n",
        "                      random_state =1,\n",
        "                      passes=2,\n",
        "                      chunksize=100)\n",
        "\n",
        "nonrumour_lda = LdaModel(nonrumour_bagofwords,\n",
        "                      num_topics = 8,\n",
        "                      id2word = nonrumour_text_dict,\n",
        "                      random_state =1,\n",
        "                      passes=2,\n",
        "                      chunksize=100)\n",
        "\n",
        "coherence_model_lda_rum = CoherenceModel(model=rumour_lda, texts=rumour_text, dictionary=rumour_text_dict, coherence='c_v')\n",
        "coherence_lda_rum = coherence_model_lda_rum.get_coherence()\n",
        "\n",
        "\n",
        "coherence_model_lda_nonrum = CoherenceModel(model=rumour_lda, texts=nonrumour_text, dictionary=nonrumour_text_dict, coherence='c_v')\n",
        "coherence_lda_nonrum = coherence_model_lda_nonrum.get_coherence()"
      ],
      "execution_count": null,
      "outputs": []
    },
    {
      "cell_type": "code",
      "metadata": {
        "colab": {
          "base_uri": "https://localhost:8080/"
        },
        "id": "owS3rWPmOCMn",
        "outputId": "62529809-bf88-458f-91ff-cb7e7f98e9cc"
      },
      "source": [
        "#Show the topics obtained from the LDA model\n",
        "\n",
        "rumour_topics = rumour_lda.show_topics()\n",
        "nonrumour_topics = nonrumour_lda.show_topics()\n",
        "\n",
        "rumour_topics_dict = {'Topic_' + str(i+1): [token for token, score in rumour_lda.show_topic(i, topn=15)] for i in range(0, rumour_lda.num_topics)}\n",
        "nonrumour_topics_dict = {'Topic_' + str(i+1): [token for token, score in nonrumour_lda.show_topic(i, topn=15)] for i in range(0, nonrumour_lda.num_topics)}\n",
        "\n",
        "\n",
        "\n",
        "print('Rumour Topics')\n",
        "print(rumour_topics_dict)\n",
        "print(\"===================\")\n",
        "print('Non-Rumour Topics')\n",
        "print(nonrumour_topics_dict)"
      ],
      "execution_count": null,
      "outputs": [
        {
          "output_type": "stream",
          "text": [
            "Rumour Topics\n",
            "{'Topic_1': ['covid19', 'coronavirus', 'u', 'country', 'pandemic', 'people', 'world', 'case', 'day', 'testing', 'test', 'one', 'state', 'help', 'time'], 'Topic_2': ['getusppe', 'covid19', 'ncdcgov', 'yo', 'gregabbotttx', 'nigeria', 'ochocinco', 'god', 'washingtonpost', 'help', 'fmohnigeria', 'fmicnigeria', 'thecableng', 'state', 'kogifacts'], 'Topic_3': ['covid19', 'coronavirus', 'people', 'get', 'mask', 'dont', 'like', 'one', 'go', 'going', 'want', 'virus', 'spread', 'know', 'think'], 'Topic_4': ['covid19', 'positive', 'pmoindia', 'jdawsey1', 'tested', 'drharshvardhan', 'mohfwindia', 'hospitalsapollo', 'aiimsnewdelhi', 'drsangitareddy', 'india', 'chrismegerian', 'kategarraway', 'skynews', 'derekdraper'], 'Topic_5': ['covid19', 'oann', 'coronavirus', 'died', 'hospital', 'healthcareheroes', 'know', 'people', 'old', 'year', 'family', 'symptom', 'child', 'nurse', 'doctor'], 'Topic_6': ['bbclaurak', 'maddow', 'cummings', 'joyannreid', 'lockdown', 'ingrahamangle', 'narendramodi', 'model', 'mile', 'india', 'rule', 'dominic', 'durham', 'indian', 'household'], 'Topic_7': ['trump', 'coronavirus', 'mikepence', 'penny', 'acosta', 'vp', 'white', 'replouiegohmert', 'house', 'politico', 'rally', 'repmattgaetz', 'covid19', 'force', 'he'], 'Topic_8': ['covid19', 'cnn', 'patient', 'nursing', 'home', 'nygovcuomo', 'coronavirus', 'vaccine', 'dr', 'texas', 'fauci', 'hydroxychloroquine', 'ny', 'new', 'study'], 'Topic_9': ['covid19', 'coronavirus', 'government', 'toryboypierce', 'matthancock', 'piersmorgan', 'uk', 'lockdown', 'people', 'home', 'nh', 'johnson', 'boris', 'say', 'borisjohnson'], 'Topic_10': ['realdonaldtrump', 'trump', 'coronavirus', 'american', 'president', 'covid19', 'u', 'pandemic', 'people', 'foxnews', 'hoax', 'whitehouse', 'gop', 'dead', 'response'], 'Topic_11': ['death', 'covid19', 'case', 'number', 'coronavirus', 'died', 'brithume', 'new', 'people', 'rate', 'realcandaceo', 'day', 'state', 'reported', 'flu'], 'Topic_12': ['china', 'coronavirus', 'virus', 'wuhan', 'chinese', 'world', 'lab', 'wuhanvirus', 'ccp', 'realjameswoods', 'outbreak', 'spread', 'ap', 'u', 'flu'], 'Topic_13': ['feb', 'ryanstruyk', 'aslavitt', 'seanhannity', 'jan', 'jenniferjjacobs', 'antonioguterres', 'mar', 'kylegriffin1', 'position', 'alivelshi', 'decided', 'scandal', 'protective', 'declared']}\n",
            "===================\n",
            "Non-Rumour Topics\n",
            "{'Topic_1': ['covid19', 'mask', 'tesla', 'people', 'social', 'distancing', 'vaccine', 'take', 'wear', 'get', 'health', 'stay', 'doctor', 'patient', 'safe'], 'Topic_2': ['covid19', 'coronavirus', 'death', 'government', 'uk', 'people', 'lockdown', 'school', 'borisjohnson', 'child', 'yamiche', 'ingrahamangle', 'matthancock', 'nadinedorries', 'home'], 'Topic_3': ['covid19', 'american', 'trump', 'people', 'coronavirus', 'case', 'realdonaldtrump', 'death', 'dead', 'vote', 'america', 'going', 'rally', 'still', 'protest'], 'Topic_4': ['narendramodi', 'covid19', 'india', 'brianstelter', 'sir', 'contest', 'drtedros', 'student', 'exam', 'please', 'chooek', 'pandemic', 'case', 'fight', 'washingtonpost'], 'Topic_5': ['realdonaldtrump', 'coronavirus', 'trump', 'covid19', 'american', 'death', 'president', 'u', 'foxnews', 'seanhannity', 'america', 'people', 'youre', 'country', 'potus'], 'Topic_6': ['coronavirus', 'covid19', 'people', 'virus', 'like', 'dont', 'get', 'china', 'u', 'know', 'would', 'one', 'pandemic', 'flu', 'spread'], 'Topic_7': ['covid19', 'nygovcuomo', 'home', 'nursing', 'patient', 'state', 'ncgovernor', 'governor', 'new', 'would', 'senschumer', 'help', 'govrondesantis', 'tmobile', 'florida'], 'Topic_8': ['covid19', 'trump', 'coronavirus', 'death', 'u', 'whitehouse', 'american', 'people', 'pandemic', 'state', 'joebiden', 'testing', 'case', 'president', 'country']}\n"
          ],
          "name": "stdout"
        }
      ]
    },
    {
      "cell_type": "code",
      "metadata": {
        "colab": {
          "base_uri": "https://localhost:8080/",
          "height": 531
        },
        "id": "oDMseilR_zXc",
        "outputId": "a7f5b5b2-bb0c-4674-8f6a-3c4a9ecde2db"
      },
      "source": [
        "pd.DataFrame.from_dict(rumour_topics_dict)"
      ],
      "execution_count": null,
      "outputs": [
        {
          "output_type": "execute_result",
          "data": {
            "text/html": [
              "<div>\n",
              "<style scoped>\n",
              "    .dataframe tbody tr th:only-of-type {\n",
              "        vertical-align: middle;\n",
              "    }\n",
              "\n",
              "    .dataframe tbody tr th {\n",
              "        vertical-align: top;\n",
              "    }\n",
              "\n",
              "    .dataframe thead th {\n",
              "        text-align: right;\n",
              "    }\n",
              "</style>\n",
              "<table border=\"1\" class=\"dataframe\">\n",
              "  <thead>\n",
              "    <tr style=\"text-align: right;\">\n",
              "      <th></th>\n",
              "      <th>Topic_1</th>\n",
              "      <th>Topic_2</th>\n",
              "      <th>Topic_3</th>\n",
              "      <th>Topic_4</th>\n",
              "      <th>Topic_5</th>\n",
              "      <th>Topic_6</th>\n",
              "      <th>Topic_7</th>\n",
              "      <th>Topic_8</th>\n",
              "      <th>Topic_9</th>\n",
              "      <th>Topic_10</th>\n",
              "      <th>Topic_11</th>\n",
              "      <th>Topic_12</th>\n",
              "      <th>Topic_13</th>\n",
              "    </tr>\n",
              "  </thead>\n",
              "  <tbody>\n",
              "    <tr>\n",
              "      <th>0</th>\n",
              "      <td>covid19</td>\n",
              "      <td>getusppe</td>\n",
              "      <td>covid19</td>\n",
              "      <td>covid19</td>\n",
              "      <td>covid19</td>\n",
              "      <td>bbclaurak</td>\n",
              "      <td>trump</td>\n",
              "      <td>covid19</td>\n",
              "      <td>covid19</td>\n",
              "      <td>realdonaldtrump</td>\n",
              "      <td>death</td>\n",
              "      <td>china</td>\n",
              "      <td>feb</td>\n",
              "    </tr>\n",
              "    <tr>\n",
              "      <th>1</th>\n",
              "      <td>coronavirus</td>\n",
              "      <td>covid19</td>\n",
              "      <td>coronavirus</td>\n",
              "      <td>positive</td>\n",
              "      <td>oann</td>\n",
              "      <td>maddow</td>\n",
              "      <td>coronavirus</td>\n",
              "      <td>cnn</td>\n",
              "      <td>coronavirus</td>\n",
              "      <td>trump</td>\n",
              "      <td>covid19</td>\n",
              "      <td>coronavirus</td>\n",
              "      <td>ryanstruyk</td>\n",
              "    </tr>\n",
              "    <tr>\n",
              "      <th>2</th>\n",
              "      <td>u</td>\n",
              "      <td>ncdcgov</td>\n",
              "      <td>people</td>\n",
              "      <td>pmoindia</td>\n",
              "      <td>coronavirus</td>\n",
              "      <td>cummings</td>\n",
              "      <td>mikepence</td>\n",
              "      <td>patient</td>\n",
              "      <td>government</td>\n",
              "      <td>coronavirus</td>\n",
              "      <td>case</td>\n",
              "      <td>virus</td>\n",
              "      <td>aslavitt</td>\n",
              "    </tr>\n",
              "    <tr>\n",
              "      <th>3</th>\n",
              "      <td>country</td>\n",
              "      <td>yo</td>\n",
              "      <td>get</td>\n",
              "      <td>jdawsey1</td>\n",
              "      <td>died</td>\n",
              "      <td>joyannreid</td>\n",
              "      <td>penny</td>\n",
              "      <td>nursing</td>\n",
              "      <td>toryboypierce</td>\n",
              "      <td>american</td>\n",
              "      <td>number</td>\n",
              "      <td>wuhan</td>\n",
              "      <td>seanhannity</td>\n",
              "    </tr>\n",
              "    <tr>\n",
              "      <th>4</th>\n",
              "      <td>pandemic</td>\n",
              "      <td>gregabbotttx</td>\n",
              "      <td>mask</td>\n",
              "      <td>tested</td>\n",
              "      <td>hospital</td>\n",
              "      <td>lockdown</td>\n",
              "      <td>acosta</td>\n",
              "      <td>home</td>\n",
              "      <td>matthancock</td>\n",
              "      <td>president</td>\n",
              "      <td>coronavirus</td>\n",
              "      <td>chinese</td>\n",
              "      <td>jan</td>\n",
              "    </tr>\n",
              "    <tr>\n",
              "      <th>5</th>\n",
              "      <td>people</td>\n",
              "      <td>nigeria</td>\n",
              "      <td>dont</td>\n",
              "      <td>drharshvardhan</td>\n",
              "      <td>healthcareheroes</td>\n",
              "      <td>ingrahamangle</td>\n",
              "      <td>vp</td>\n",
              "      <td>nygovcuomo</td>\n",
              "      <td>piersmorgan</td>\n",
              "      <td>covid19</td>\n",
              "      <td>died</td>\n",
              "      <td>world</td>\n",
              "      <td>jenniferjjacobs</td>\n",
              "    </tr>\n",
              "    <tr>\n",
              "      <th>6</th>\n",
              "      <td>world</td>\n",
              "      <td>ochocinco</td>\n",
              "      <td>like</td>\n",
              "      <td>mohfwindia</td>\n",
              "      <td>know</td>\n",
              "      <td>narendramodi</td>\n",
              "      <td>white</td>\n",
              "      <td>coronavirus</td>\n",
              "      <td>uk</td>\n",
              "      <td>u</td>\n",
              "      <td>brithume</td>\n",
              "      <td>lab</td>\n",
              "      <td>antonioguterres</td>\n",
              "    </tr>\n",
              "    <tr>\n",
              "      <th>7</th>\n",
              "      <td>case</td>\n",
              "      <td>god</td>\n",
              "      <td>one</td>\n",
              "      <td>hospitalsapollo</td>\n",
              "      <td>people</td>\n",
              "      <td>model</td>\n",
              "      <td>replouiegohmert</td>\n",
              "      <td>vaccine</td>\n",
              "      <td>lockdown</td>\n",
              "      <td>pandemic</td>\n",
              "      <td>new</td>\n",
              "      <td>wuhanvirus</td>\n",
              "      <td>mar</td>\n",
              "    </tr>\n",
              "    <tr>\n",
              "      <th>8</th>\n",
              "      <td>day</td>\n",
              "      <td>washingtonpost</td>\n",
              "      <td>go</td>\n",
              "      <td>aiimsnewdelhi</td>\n",
              "      <td>old</td>\n",
              "      <td>mile</td>\n",
              "      <td>house</td>\n",
              "      <td>dr</td>\n",
              "      <td>people</td>\n",
              "      <td>people</td>\n",
              "      <td>people</td>\n",
              "      <td>ccp</td>\n",
              "      <td>kylegriffin1</td>\n",
              "    </tr>\n",
              "    <tr>\n",
              "      <th>9</th>\n",
              "      <td>testing</td>\n",
              "      <td>help</td>\n",
              "      <td>going</td>\n",
              "      <td>drsangitareddy</td>\n",
              "      <td>year</td>\n",
              "      <td>india</td>\n",
              "      <td>politico</td>\n",
              "      <td>texas</td>\n",
              "      <td>home</td>\n",
              "      <td>foxnews</td>\n",
              "      <td>rate</td>\n",
              "      <td>realjameswoods</td>\n",
              "      <td>position</td>\n",
              "    </tr>\n",
              "    <tr>\n",
              "      <th>10</th>\n",
              "      <td>test</td>\n",
              "      <td>fmohnigeria</td>\n",
              "      <td>want</td>\n",
              "      <td>india</td>\n",
              "      <td>family</td>\n",
              "      <td>rule</td>\n",
              "      <td>rally</td>\n",
              "      <td>fauci</td>\n",
              "      <td>nh</td>\n",
              "      <td>hoax</td>\n",
              "      <td>realcandaceo</td>\n",
              "      <td>outbreak</td>\n",
              "      <td>alivelshi</td>\n",
              "    </tr>\n",
              "    <tr>\n",
              "      <th>11</th>\n",
              "      <td>one</td>\n",
              "      <td>fmicnigeria</td>\n",
              "      <td>virus</td>\n",
              "      <td>chrismegerian</td>\n",
              "      <td>symptom</td>\n",
              "      <td>dominic</td>\n",
              "      <td>repmattgaetz</td>\n",
              "      <td>hydroxychloroquine</td>\n",
              "      <td>johnson</td>\n",
              "      <td>whitehouse</td>\n",
              "      <td>day</td>\n",
              "      <td>spread</td>\n",
              "      <td>decided</td>\n",
              "    </tr>\n",
              "    <tr>\n",
              "      <th>12</th>\n",
              "      <td>state</td>\n",
              "      <td>thecableng</td>\n",
              "      <td>spread</td>\n",
              "      <td>kategarraway</td>\n",
              "      <td>child</td>\n",
              "      <td>durham</td>\n",
              "      <td>covid19</td>\n",
              "      <td>ny</td>\n",
              "      <td>boris</td>\n",
              "      <td>gop</td>\n",
              "      <td>state</td>\n",
              "      <td>ap</td>\n",
              "      <td>scandal</td>\n",
              "    </tr>\n",
              "    <tr>\n",
              "      <th>13</th>\n",
              "      <td>help</td>\n",
              "      <td>state</td>\n",
              "      <td>know</td>\n",
              "      <td>skynews</td>\n",
              "      <td>nurse</td>\n",
              "      <td>indian</td>\n",
              "      <td>force</td>\n",
              "      <td>new</td>\n",
              "      <td>say</td>\n",
              "      <td>dead</td>\n",
              "      <td>reported</td>\n",
              "      <td>u</td>\n",
              "      <td>protective</td>\n",
              "    </tr>\n",
              "    <tr>\n",
              "      <th>14</th>\n",
              "      <td>time</td>\n",
              "      <td>kogifacts</td>\n",
              "      <td>think</td>\n",
              "      <td>derekdraper</td>\n",
              "      <td>doctor</td>\n",
              "      <td>household</td>\n",
              "      <td>he</td>\n",
              "      <td>study</td>\n",
              "      <td>borisjohnson</td>\n",
              "      <td>response</td>\n",
              "      <td>flu</td>\n",
              "      <td>flu</td>\n",
              "      <td>declared</td>\n",
              "    </tr>\n",
              "  </tbody>\n",
              "</table>\n",
              "</div>"
            ],
            "text/plain": [
              "        Topic_1         Topic_2  ...        Topic_12         Topic_13\n",
              "0       covid19        getusppe  ...           china              feb\n",
              "1   coronavirus         covid19  ...     coronavirus       ryanstruyk\n",
              "2             u         ncdcgov  ...           virus         aslavitt\n",
              "3       country              yo  ...           wuhan      seanhannity\n",
              "4      pandemic    gregabbotttx  ...         chinese              jan\n",
              "5        people         nigeria  ...           world  jenniferjjacobs\n",
              "6         world       ochocinco  ...             lab  antonioguterres\n",
              "7          case             god  ...      wuhanvirus              mar\n",
              "8           day  washingtonpost  ...             ccp     kylegriffin1\n",
              "9       testing            help  ...  realjameswoods         position\n",
              "10         test     fmohnigeria  ...        outbreak        alivelshi\n",
              "11          one     fmicnigeria  ...          spread          decided\n",
              "12        state      thecableng  ...              ap          scandal\n",
              "13         help           state  ...               u       protective\n",
              "14         time       kogifacts  ...             flu         declared\n",
              "\n",
              "[15 rows x 13 columns]"
            ]
          },
          "metadata": {
            "tags": []
          },
          "execution_count": 63
        }
      ]
    },
    {
      "cell_type": "code",
      "metadata": {
        "colab": {
          "base_uri": "https://localhost:8080/"
        },
        "id": "2cz4kb0OADCO",
        "outputId": "c2d63244-bdd1-4f57-e00f-ff7bfa357821"
      },
      "source": [
        "pd.DataFrame.from_dict(nonrumour_topics_dict)"
      ],
      "execution_count": null,
      "outputs": [
        {
          "output_type": "execute_result",
          "data": {
            "text/html": [
              "<div>\n",
              "<style scoped>\n",
              "    .dataframe tbody tr th:only-of-type {\n",
              "        vertical-align: middle;\n",
              "    }\n",
              "\n",
              "    .dataframe tbody tr th {\n",
              "        vertical-align: top;\n",
              "    }\n",
              "\n",
              "    .dataframe thead th {\n",
              "        text-align: right;\n",
              "    }\n",
              "</style>\n",
              "<table border=\"1\" class=\"dataframe\">\n",
              "  <thead>\n",
              "    <tr style=\"text-align: right;\">\n",
              "      <th></th>\n",
              "      <th>Topic_1</th>\n",
              "      <th>Topic_2</th>\n",
              "      <th>Topic_3</th>\n",
              "      <th>Topic_4</th>\n",
              "      <th>Topic_5</th>\n",
              "      <th>Topic_6</th>\n",
              "      <th>Topic_7</th>\n",
              "      <th>Topic_8</th>\n",
              "    </tr>\n",
              "  </thead>\n",
              "  <tbody>\n",
              "    <tr>\n",
              "      <th>0</th>\n",
              "      <td>covid19</td>\n",
              "      <td>covid19</td>\n",
              "      <td>covid19</td>\n",
              "      <td>narendramodi</td>\n",
              "      <td>realdonaldtrump</td>\n",
              "      <td>coronavirus</td>\n",
              "      <td>covid19</td>\n",
              "      <td>covid19</td>\n",
              "    </tr>\n",
              "    <tr>\n",
              "      <th>1</th>\n",
              "      <td>mask</td>\n",
              "      <td>coronavirus</td>\n",
              "      <td>american</td>\n",
              "      <td>covid19</td>\n",
              "      <td>coronavirus</td>\n",
              "      <td>covid19</td>\n",
              "      <td>nygovcuomo</td>\n",
              "      <td>trump</td>\n",
              "    </tr>\n",
              "    <tr>\n",
              "      <th>2</th>\n",
              "      <td>tesla</td>\n",
              "      <td>death</td>\n",
              "      <td>trump</td>\n",
              "      <td>india</td>\n",
              "      <td>trump</td>\n",
              "      <td>people</td>\n",
              "      <td>home</td>\n",
              "      <td>coronavirus</td>\n",
              "    </tr>\n",
              "    <tr>\n",
              "      <th>3</th>\n",
              "      <td>people</td>\n",
              "      <td>government</td>\n",
              "      <td>people</td>\n",
              "      <td>brianstelter</td>\n",
              "      <td>covid19</td>\n",
              "      <td>virus</td>\n",
              "      <td>nursing</td>\n",
              "      <td>death</td>\n",
              "    </tr>\n",
              "    <tr>\n",
              "      <th>4</th>\n",
              "      <td>social</td>\n",
              "      <td>uk</td>\n",
              "      <td>coronavirus</td>\n",
              "      <td>sir</td>\n",
              "      <td>american</td>\n",
              "      <td>like</td>\n",
              "      <td>patient</td>\n",
              "      <td>u</td>\n",
              "    </tr>\n",
              "    <tr>\n",
              "      <th>5</th>\n",
              "      <td>distancing</td>\n",
              "      <td>people</td>\n",
              "      <td>case</td>\n",
              "      <td>contest</td>\n",
              "      <td>death</td>\n",
              "      <td>dont</td>\n",
              "      <td>state</td>\n",
              "      <td>whitehouse</td>\n",
              "    </tr>\n",
              "    <tr>\n",
              "      <th>6</th>\n",
              "      <td>vaccine</td>\n",
              "      <td>lockdown</td>\n",
              "      <td>realdonaldtrump</td>\n",
              "      <td>drtedros</td>\n",
              "      <td>president</td>\n",
              "      <td>get</td>\n",
              "      <td>ncgovernor</td>\n",
              "      <td>american</td>\n",
              "    </tr>\n",
              "    <tr>\n",
              "      <th>7</th>\n",
              "      <td>take</td>\n",
              "      <td>school</td>\n",
              "      <td>death</td>\n",
              "      <td>student</td>\n",
              "      <td>u</td>\n",
              "      <td>china</td>\n",
              "      <td>governor</td>\n",
              "      <td>people</td>\n",
              "    </tr>\n",
              "    <tr>\n",
              "      <th>8</th>\n",
              "      <td>wear</td>\n",
              "      <td>borisjohnson</td>\n",
              "      <td>dead</td>\n",
              "      <td>exam</td>\n",
              "      <td>foxnews</td>\n",
              "      <td>u</td>\n",
              "      <td>new</td>\n",
              "      <td>pandemic</td>\n",
              "    </tr>\n",
              "    <tr>\n",
              "      <th>9</th>\n",
              "      <td>get</td>\n",
              "      <td>child</td>\n",
              "      <td>vote</td>\n",
              "      <td>please</td>\n",
              "      <td>seanhannity</td>\n",
              "      <td>know</td>\n",
              "      <td>would</td>\n",
              "      <td>state</td>\n",
              "    </tr>\n",
              "    <tr>\n",
              "      <th>10</th>\n",
              "      <td>health</td>\n",
              "      <td>yamiche</td>\n",
              "      <td>america</td>\n",
              "      <td>chooek</td>\n",
              "      <td>america</td>\n",
              "      <td>would</td>\n",
              "      <td>senschumer</td>\n",
              "      <td>joebiden</td>\n",
              "    </tr>\n",
              "    <tr>\n",
              "      <th>11</th>\n",
              "      <td>stay</td>\n",
              "      <td>ingrahamangle</td>\n",
              "      <td>going</td>\n",
              "      <td>pandemic</td>\n",
              "      <td>people</td>\n",
              "      <td>one</td>\n",
              "      <td>help</td>\n",
              "      <td>testing</td>\n",
              "    </tr>\n",
              "    <tr>\n",
              "      <th>12</th>\n",
              "      <td>doctor</td>\n",
              "      <td>matthancock</td>\n",
              "      <td>rally</td>\n",
              "      <td>case</td>\n",
              "      <td>youre</td>\n",
              "      <td>pandemic</td>\n",
              "      <td>govrondesantis</td>\n",
              "      <td>case</td>\n",
              "    </tr>\n",
              "    <tr>\n",
              "      <th>13</th>\n",
              "      <td>patient</td>\n",
              "      <td>nadinedorries</td>\n",
              "      <td>still</td>\n",
              "      <td>fight</td>\n",
              "      <td>country</td>\n",
              "      <td>flu</td>\n",
              "      <td>tmobile</td>\n",
              "      <td>president</td>\n",
              "    </tr>\n",
              "    <tr>\n",
              "      <th>14</th>\n",
              "      <td>safe</td>\n",
              "      <td>home</td>\n",
              "      <td>protest</td>\n",
              "      <td>washingtonpost</td>\n",
              "      <td>potus</td>\n",
              "      <td>spread</td>\n",
              "      <td>florida</td>\n",
              "      <td>country</td>\n",
              "    </tr>\n",
              "  </tbody>\n",
              "</table>\n",
              "</div>"
            ],
            "text/plain": [
              "       Topic_1        Topic_2  ...         Topic_7      Topic_8\n",
              "0      covid19        covid19  ...         covid19      covid19\n",
              "1         mask    coronavirus  ...      nygovcuomo        trump\n",
              "2        tesla          death  ...            home  coronavirus\n",
              "3       people     government  ...         nursing        death\n",
              "4       social             uk  ...         patient            u\n",
              "5   distancing         people  ...           state   whitehouse\n",
              "6      vaccine       lockdown  ...      ncgovernor     american\n",
              "7         take         school  ...        governor       people\n",
              "8         wear   borisjohnson  ...             new     pandemic\n",
              "9          get          child  ...           would        state\n",
              "10      health        yamiche  ...      senschumer     joebiden\n",
              "11        stay  ingrahamangle  ...            help      testing\n",
              "12      doctor    matthancock  ...  govrondesantis         case\n",
              "13     patient  nadinedorries  ...         tmobile    president\n",
              "14        safe           home  ...         florida      country\n",
              "\n",
              "[15 rows x 8 columns]"
            ]
          },
          "metadata": {
            "tags": []
          },
          "execution_count": 65
        }
      ]
    },
    {
      "cell_type": "markdown",
      "metadata": {
        "id": "mkAOQDWLKlZP"
      },
      "source": [
        "Sentiment Analysis Using TextBlob\n"
      ]
    },
    {
      "cell_type": "code",
      "metadata": {
        "id": "5LMWHdQlIH-a"
      },
      "source": [
        "#Cleaning of the data\n",
        "rumour_text_sentiment = rumour_df_combined\n",
        "nonrumour_text_sentiment = nonrumour_df_combined\n",
        "\n",
        "rumour_text_sentiment['combined'] = rumour_text_sentiment['combined'].apply(clean_text)\n",
        "rumour_text_sentiment['combined'] = rumour_text_sentiment['combined'].apply(fix_encode)\n",
        "rumour_text_sentiment['combined'] = rumour_text_sentiment['combined'].apply(remove_punctuations)\n",
        "\n",
        "nonrumour_text_sentiment['combined'] = nonrumour_text_sentiment['combined'].apply(clean_text)\n",
        "nonrumour_text_sentiment['combined'] = nonrumour_text_sentiment['combined'].apply(fix_encode)\n",
        "nonrumour_text_sentiment['combined'] = nonrumour_text_sentiment['combined'].apply(remove_punctuations)"
      ],
      "execution_count": null,
      "outputs": []
    },
    {
      "cell_type": "code",
      "metadata": {
        "id": "B8fi9IPPKka0"
      },
      "source": [
        "#A function to measure the subjectivity\n",
        "def textSubjectivity(tweet):\n",
        "  return TextBlob(tweet).sentiment.subjectivity\n",
        "\n",
        "rumour_text_sentiment['subjectivity'] = rumour_text_sentiment['combined'].apply(textSubjectivity)\n",
        "nonrumour_text_sentiment['subjectivity'] = nonrumour_text_sentiment['combined'].apply(textSubjectivity)"
      ],
      "execution_count": null,
      "outputs": []
    },
    {
      "cell_type": "code",
      "metadata": {
        "colab": {
          "base_uri": "https://localhost:8080/",
          "height": 237
        },
        "id": "v7Z0NTSlPn1c",
        "outputId": "daa0f6be-720a-4d0e-e33e-b3de55392877"
      },
      "source": [
        "nonrumour_text_sentiment.head()"
      ],
      "execution_count": null,
      "outputs": [
        {
          "output_type": "execute_result",
          "data": {
            "text/html": [
              "<div>\n",
              "<style scoped>\n",
              "    .dataframe tbody tr th:only-of-type {\n",
              "        vertical-align: middle;\n",
              "    }\n",
              "\n",
              "    .dataframe tbody tr th {\n",
              "        vertical-align: top;\n",
              "    }\n",
              "\n",
              "    .dataframe thead th {\n",
              "        text-align: right;\n",
              "    }\n",
              "</style>\n",
              "<table border=\"1\" class=\"dataframe\">\n",
              "  <thead>\n",
              "    <tr style=\"text-align: right;\">\n",
              "      <th></th>\n",
              "      <th>id_str</th>\n",
              "      <th>text</th>\n",
              "      <th>reply_text</th>\n",
              "      <th>label</th>\n",
              "      <th>combined</th>\n",
              "      <th>subjectivity</th>\n",
              "    </tr>\n",
              "  </thead>\n",
              "  <tbody>\n",
              "    <tr>\n",
              "      <th>0</th>\n",
              "      <td>1257715199655755779</td>\n",
              "      <td>Eastleigh and Swahili Arabs in Mombasa where c...</td>\n",
              "      <td>@BelAkinyii Let's not play blind that the work...</td>\n",
              "      <td>non-rumour</td>\n",
              "      <td>Eastleigh and Swahili Arabs in Mombasa where c...</td>\n",
              "      <td>0.406667</td>\n",
              "    </tr>\n",
              "    <tr>\n",
              "      <th>1</th>\n",
              "      <td>1249421782630772746</td>\n",
              "      <td>Today Im thinking about the families across ou...</td>\n",
              "      <td>@KamalaHarris @donnabrazile That is the dumbes...</td>\n",
              "      <td>non-rumour</td>\n",
              "      <td>Today Im thinking about the families across ou...</td>\n",
              "      <td>0.500000</td>\n",
              "    </tr>\n",
              "    <tr>\n",
              "      <th>2</th>\n",
              "      <td>1274091468890632192</td>\n",
              "      <td>KHive has become the most toxic thing on Twitt...</td>\n",
              "      <td>@JasonOverstreet It wasn't enough that Warren'...</td>\n",
              "      <td>non-rumour</td>\n",
              "      <td>KHive has become the most toxic thing on Twitt...</td>\n",
              "      <td>0.520000</td>\n",
              "    </tr>\n",
              "    <tr>\n",
              "      <th>3</th>\n",
              "      <td>1278159404324405248</td>\n",
              "      <td>Major League Soccer COVID-19 Testing Update - ...</td>\n",
              "      <td>-</td>\n",
              "      <td>non-rumour</td>\n",
              "      <td>Major League Soccer COVID19 Testing Update  June</td>\n",
              "      <td>0.500000</td>\n",
              "    </tr>\n",
              "    <tr>\n",
              "      <th>4</th>\n",
              "      <td>1275627556289511424</td>\n",
              "      <td>New Harris County numbers online tonight . For...</td>\n",
              "      <td>@PeterHotez @HoustonChron @NewDay @CNN I'm ver...</td>\n",
              "      <td>non-rumour</td>\n",
              "      <td>New Harris County numbers online tonight  Forg...</td>\n",
              "      <td>0.652424</td>\n",
              "    </tr>\n",
              "  </tbody>\n",
              "</table>\n",
              "</div>"
            ],
            "text/plain": [
              "                id_str  ... subjectivity\n",
              "0  1257715199655755779  ...     0.406667\n",
              "1  1249421782630772746  ...     0.500000\n",
              "2  1274091468890632192  ...     0.520000\n",
              "3  1278159404324405248  ...     0.500000\n",
              "4  1275627556289511424  ...     0.652424\n",
              "\n",
              "[5 rows x 6 columns]"
            ]
          },
          "metadata": {
            "tags": []
          },
          "execution_count": 19
        }
      ]
    },
    {
      "cell_type": "code",
      "metadata": {
        "id": "JOh2ouB5OUpA"
      },
      "source": [
        "# A function to measure the polarity\n",
        "def textPolarity(tweet):\n",
        "  return TextBlob(tweet).sentiment.polarity\n",
        "rumour_text_sentiment['polarity'] = rumour_text_sentiment['combined'].apply(textPolarity)\n",
        "nonrumour_text_sentiment['polarity'] = nonrumour_text_sentiment['combined'].apply(textPolarity)"
      ],
      "execution_count": null,
      "outputs": []
    },
    {
      "cell_type": "code",
      "metadata": {
        "id": "rqAuXZfjP6th"
      },
      "source": [
        "#A function to label the sentiment\n",
        "def defineSentiment(polarity_score):\n",
        "  score = 'Neutral'\n",
        "  if polarity_score < 0:\n",
        "    score = 'Negative'\n",
        "  elif polarity_score > 0:\n",
        "    score = 'Positive'\n",
        "  return score\n",
        "\n",
        "rumour_text_sentiment['score'] = rumour_text_sentiment['polarity'].apply(defineSentiment)\n",
        "nonrumour_text_sentiment['score'] = nonrumour_text_sentiment['polarity'].apply(defineSentiment)"
      ],
      "execution_count": null,
      "outputs": []
    },
    {
      "cell_type": "code",
      "metadata": {
        "colab": {
          "base_uri": "https://localhost:8080/"
        },
        "id": "CQUFqfv4RiRe",
        "outputId": "b2c5d193-7e75-4f43-c710-d36c1b97de29"
      },
      "source": [
        "labels_nr = nonrumour_text_sentiment.groupby('score').count().index.values\n",
        "\n",
        "values_nr = nonrumour_text_sentiment.groupby('score').size().values\n",
        "\n",
        "labels_r = rumour_text_sentiment.groupby('score').count().index.values\n",
        "\n",
        "values_r = rumour_text_sentiment.groupby('score').size().values\n",
        "\n",
        "#plt.bar(labels_r, values_r)\n",
        "#plt.bar(labels_nr, values_nr)\n",
        "\n",
        "print(labels_r)\n",
        "print(values_r)\n",
        "\n"
      ],
      "execution_count": null,
      "outputs": [
        {
          "output_type": "stream",
          "text": [
            "['Negative' 'Neutral' 'Positive']\n",
            "[2443  616 4922]\n"
          ],
          "name": "stdout"
        }
      ]
    },
    {
      "cell_type": "code",
      "metadata": {
        "colab": {
          "base_uri": "https://localhost:8080/",
          "height": 385
        },
        "id": "HpdGmfaH3MPS",
        "outputId": "eca90760-9c43-464c-fd19-151b4e7e2cd3"
      },
      "source": [
        "sns.distplot(rumour_text_sentiment[\"polarity\"],color='orange')\n",
        "sns.distplot(nonrumour_text_sentiment[\"polarity\"],color='green')\n"
      ],
      "execution_count": null,
      "outputs": [
        {
          "output_type": "stream",
          "text": [
            "/usr/local/lib/python3.7/dist-packages/seaborn/distributions.py:2557: FutureWarning: `distplot` is a deprecated function and will be removed in a future version. Please adapt your code to use either `displot` (a figure-level function with similar flexibility) or `histplot` (an axes-level function for histograms).\n",
            "  warnings.warn(msg, FutureWarning)\n",
            "/usr/local/lib/python3.7/dist-packages/seaborn/distributions.py:2557: FutureWarning: `distplot` is a deprecated function and will be removed in a future version. Please adapt your code to use either `displot` (a figure-level function with similar flexibility) or `histplot` (an axes-level function for histograms).\n",
            "  warnings.warn(msg, FutureWarning)\n"
          ],
          "name": "stderr"
        },
        {
          "output_type": "execute_result",
          "data": {
            "text/plain": [
              "<matplotlib.axes._subplots.AxesSubplot at 0x7fc5b7f09e50>"
            ]
          },
          "metadata": {
            "tags": []
          },
          "execution_count": 120
        },
        {
          "output_type": "display_data",
          "data": {
            "image/png": "[encoded data removed]",
            "text/plain": [
              "<Figure size 432x288 with 1 Axes>"
            ]
          },
          "metadata": {
            "tags": [],
            "needs_background": "light"
          }
        }
      ]
    },
    {
      "cell_type": "markdown",
      "metadata": {
        "id": "D9Flxj2kNQaM"
      },
      "source": [
        ""
      ]
    }
  ]
}