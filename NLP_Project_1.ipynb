{
  "nbformat": 4,
  "nbformat_minor": 0,
  "metadata": {
    "accelerator": "GPU",
    "colab": {
      "name": "NLP_Project_1.ipynb",
      "provenance": [],
      "collapsed_sections": [],
      "include_colab_link": true
    },
    "kernelspec": {
      "display_name": "Python 3",
      "name": "python3"
    },
    "language_info": {
      "name": "python"
    },
    "widgets": {
      "application/vnd.jupyter.widget-state+json": {
        "7375338872e34098abe546280931e450": {
          "model_module": "@jupyter-widgets/controls",
          "model_name": "HBoxModel",
          "state": {
            "_view_name": "HBoxView",
            "_dom_classes": [],
            "_model_name": "HBoxModel",
            "_view_module": "@jupyter-widgets/controls",
            "_model_module_version": "1.5.0",
            "_view_count": null,
            "_view_module_version": "1.5.0",
            "box_style": "",
            "layout": "IPY_MODEL_289db3134e39401f80a0f79cd6196982",
            "_model_module": "@jupyter-widgets/controls",
            "children": [
              "IPY_MODEL_dac5f54ebb304f99b61728feed77b174",
              "IPY_MODEL_a4524389435a4deabcd35522d6dd32b6"
            ]
          }
        },
        "289db3134e39401f80a0f79cd6196982": {
          "model_module": "@jupyter-widgets/base",
          "model_name": "LayoutModel",
          "state": {
            "_view_name": "LayoutView",
            "grid_template_rows": null,
            "right": null,
            "justify_content": null,
            "_view_module": "@jupyter-widgets/base",
            "overflow": null,
            "_model_module_version": "1.2.0",
            "_view_count": null,
            "flex_flow": null,
            "width": null,
            "min_width": null,
            "border": null,
            "align_items": null,
            "bottom": null,
            "_model_module": "@jupyter-widgets/base",
            "top": null,
            "grid_column": null,
            "overflow_y": null,
            "overflow_x": null,
            "grid_auto_flow": null,
            "grid_area": null,
            "grid_template_columns": null,
            "flex": null,
            "_model_name": "LayoutModel",
            "justify_items": null,
            "grid_row": null,
            "max_height": null,
            "align_content": null,
            "visibility": null,
            "align_self": null,
            "height": null,
            "min_height": null,
            "padding": null,
            "grid_auto_rows": null,
            "grid_gap": null,
            "max_width": null,
            "order": null,
            "_view_module_version": "1.2.0",
            "grid_template_areas": null,
            "object_position": null,
            "object_fit": null,
            "grid_auto_columns": null,
            "margin": null,
            "display": null,
            "left": null
          }
        },
        "dac5f54ebb304f99b61728feed77b174": {
          "model_module": "@jupyter-widgets/controls",
          "model_name": "FloatProgressModel",
          "state": {
            "_view_name": "ProgressView",
            "style": "IPY_MODEL_934bd07f844442f3b4ae25d85599eda4",
            "_dom_classes": [],
            "description": "Downloading: 100%",
            "_model_name": "FloatProgressModel",
            "bar_style": "success",
            "max": 231508,
            "_view_module": "@jupyter-widgets/controls",
            "_model_module_version": "1.5.0",
            "value": 231508,
            "_view_count": null,
            "_view_module_version": "1.5.0",
            "orientation": "horizontal",
            "min": 0,
            "description_tooltip": null,
            "_model_module": "@jupyter-widgets/controls",
            "layout": "IPY_MODEL_244d68ce68f3408aa26ff0c8cc0c02be"
          }
        },
        "a4524389435a4deabcd35522d6dd32b6": {
          "model_module": "@jupyter-widgets/controls",
          "model_name": "HTMLModel",
          "state": {
            "_view_name": "HTMLView",
            "style": "IPY_MODEL_e1627b25f7a94a96bdc767bb994314d2",
            "_dom_classes": [],
            "description": "",
            "_model_name": "HTMLModel",
            "placeholder": "​",
            "_view_module": "@jupyter-widgets/controls",
            "_model_module_version": "1.5.0",
            "value": " 232k/232k [00:02&lt;00:00, 94.8kB/s]",
            "_view_count": null,
            "_view_module_version": "1.5.0",
            "description_tooltip": null,
            "_model_module": "@jupyter-widgets/controls",
            "layout": "IPY_MODEL_b3a1b4cfe79345e3b490224b0edf932e"
          }
        },
        "934bd07f844442f3b4ae25d85599eda4": {
          "model_module": "@jupyter-widgets/controls",
          "model_name": "ProgressStyleModel",
          "state": {
            "_view_name": "StyleView",
            "_model_name": "ProgressStyleModel",
            "description_width": "initial",
            "_view_module": "@jupyter-widgets/base",
            "_model_module_version": "1.5.0",
            "_view_count": null,
            "_view_module_version": "1.2.0",
            "bar_color": null,
            "_model_module": "@jupyter-widgets/controls"
          }
        },
        "244d68ce68f3408aa26ff0c8cc0c02be": {
          "model_module": "@jupyter-widgets/base",
          "model_name": "LayoutModel",
          "state": {
            "_view_name": "LayoutView",
            "grid_template_rows": null,
            "right": null,
            "justify_content": null,
            "_view_module": "@jupyter-widgets/base",
            "overflow": null,
            "_model_module_version": "1.2.0",
            "_view_count": null,
            "flex_flow": null,
            "width": null,
            "min_width": null,
            "border": null,
            "align_items": null,
            "bottom": null,
            "_model_module": "@jupyter-widgets/base",
            "top": null,
            "grid_column": null,
            "overflow_y": null,
            "overflow_x": null,
            "grid_auto_flow": null,
            "grid_area": null,
            "grid_template_columns": null,
            "flex": null,
            "_model_name": "LayoutModel",
            "justify_items": null,
            "grid_row": null,
            "max_height": null,
            "align_content": null,
            "visibility": null,
            "align_self": null,
            "height": null,
            "min_height": null,
            "padding": null,
            "grid_auto_rows": null,
            "grid_gap": null,
            "max_width": null,
            "order": null,
            "_view_module_version": "1.2.0",
            "grid_template_areas": null,
            "object_position": null,
            "object_fit": null,
            "grid_auto_columns": null,
            "margin": null,
            "display": null,
            "left": null
          }
        },
        "e1627b25f7a94a96bdc767bb994314d2": {
          "model_module": "@jupyter-widgets/controls",
          "model_name": "DescriptionStyleModel",
          "state": {
            "_view_name": "StyleView",
            "_model_name": "DescriptionStyleModel",
            "description_width": "",
            "_view_module": "@jupyter-widgets/base",
            "_model_module_version": "1.5.0",
            "_view_count": null,
            "_view_module_version": "1.2.0",
            "_model_module": "@jupyter-widgets/controls"
          }
        },
        "b3a1b4cfe79345e3b490224b0edf932e": {
          "model_module": "@jupyter-widgets/base",
          "model_name": "LayoutModel",
          "state": {
            "_view_name": "LayoutView",
            "grid_template_rows": null,
            "right": null,
            "justify_content": null,
            "_view_module": "@jupyter-widgets/base",
            "overflow": null,
            "_model_module_version": "1.2.0",
            "_view_count": null,
            "flex_flow": null,
            "width": null,
            "min_width": null,
            "border": null,
            "align_items": null,
            "bottom": null,
            "_model_module": "@jupyter-widgets/base",
            "top": null,
            "grid_column": null,
            "overflow_y": null,
            "overflow_x": null,
            "grid_auto_flow": null,
            "grid_area": null,
            "grid_template_columns": null,
            "flex": null,
            "_model_name": "LayoutModel",
            "justify_items": null,
            "grid_row": null,
            "max_height": null,
            "align_content": null,
            "visibility": null,
            "align_self": null,
            "height": null,
            "min_height": null,
            "padding": null,
            "grid_auto_rows": null,
            "grid_gap": null,
            "max_width": null,
            "order": null,
            "_view_module_version": "1.2.0",
            "grid_template_areas": null,
            "object_position": null,
            "object_fit": null,
            "grid_auto_columns": null,
            "margin": null,
            "display": null,
            "left": null
          }
        },
        "b5283b119add4f02bfc89556c0dfffc0": {
          "model_module": "@jupyter-widgets/controls",
          "model_name": "HBoxModel",
          "state": {
            "_view_name": "HBoxView",
            "_dom_classes": [],
            "_model_name": "HBoxModel",
            "_view_module": "@jupyter-widgets/controls",
            "_model_module_version": "1.5.0",
            "_view_count": null,
            "_view_module_version": "1.5.0",
            "box_style": "",
            "layout": "IPY_MODEL_6ade109196e24ad5bad2b32d9f2a7ef0",
            "_model_module": "@jupyter-widgets/controls",
            "children": [
              "IPY_MODEL_64aac43dd3eb4198987a3faaff73d56b",
              "IPY_MODEL_219e07b46ead4f54a128182954ba6bf7"
            ]
          }
        },
        "6ade109196e24ad5bad2b32d9f2a7ef0": {
          "model_module": "@jupyter-widgets/base",
          "model_name": "LayoutModel",
          "state": {
            "_view_name": "LayoutView",
            "grid_template_rows": null,
            "right": null,
            "justify_content": null,
            "_view_module": "@jupyter-widgets/base",
            "overflow": null,
            "_model_module_version": "1.2.0",
            "_view_count": null,
            "flex_flow": null,
            "width": null,
            "min_width": null,
            "border": null,
            "align_items": null,
            "bottom": null,
            "_model_module": "@jupyter-widgets/base",
            "top": null,
            "grid_column": null,
            "overflow_y": null,
            "overflow_x": null,
            "grid_auto_flow": null,
            "grid_area": null,
            "grid_template_columns": null,
            "flex": null,
            "_model_name": "LayoutModel",
            "justify_items": null,
            "grid_row": null,
            "max_height": null,
            "align_content": null,
            "visibility": null,
            "align_self": null,
            "height": null,
            "min_height": null,
            "padding": null,
            "grid_auto_rows": null,
            "grid_gap": null,
            "max_width": null,
            "order": null,
            "_view_module_version": "1.2.0",
            "grid_template_areas": null,
            "object_position": null,
            "object_fit": null,
            "grid_auto_columns": null,
            "margin": null,
            "display": null,
            "left": null
          }
        },
        "64aac43dd3eb4198987a3faaff73d56b": {
          "model_module": "@jupyter-widgets/controls",
          "model_name": "FloatProgressModel",
          "state": {
            "_view_name": "ProgressView",
            "style": "IPY_MODEL_6a0f8371931a472588775669794fa2ac",
            "_dom_classes": [],
            "description": "Downloading: 100%",
            "_model_name": "FloatProgressModel",
            "bar_style": "success",
            "max": 28,
            "_view_module": "@jupyter-widgets/controls",
            "_model_module_version": "1.5.0",
            "value": 28,
            "_view_count": null,
            "_view_module_version": "1.5.0",
            "orientation": "horizontal",
            "min": 0,
            "description_tooltip": null,
            "_model_module": "@jupyter-widgets/controls",
            "layout": "IPY_MODEL_58af43c178ad4e989eb411271c46996a"
          }
        },
        "219e07b46ead4f54a128182954ba6bf7": {
          "model_module": "@jupyter-widgets/controls",
          "model_name": "HTMLModel",
          "state": {
            "_view_name": "HTMLView",
            "style": "IPY_MODEL_572400cd2ee84279bd0b92b8555a723f",
            "_dom_classes": [],
            "description": "",
            "_model_name": "HTMLModel",
            "placeholder": "​",
            "_view_module": "@jupyter-widgets/controls",
            "_model_module_version": "1.5.0",
            "value": " 28.0/28.0 [00:01&lt;00:00, 27.0B/s]",
            "_view_count": null,
            "_view_module_version": "1.5.0",
            "description_tooltip": null,
            "_model_module": "@jupyter-widgets/controls",
            "layout": "IPY_MODEL_a35f488070564161b7a65da76b23ed55"
          }
        },
        "6a0f8371931a472588775669794fa2ac": {
          "model_module": "@jupyter-widgets/controls",
          "model_name": "ProgressStyleModel",
          "state": {
            "_view_name": "StyleView",
            "_model_name": "ProgressStyleModel",
            "description_width": "initial",
            "_view_module": "@jupyter-widgets/base",
            "_model_module_version": "1.5.0",
            "_view_count": null,
            "_view_module_version": "1.2.0",
            "bar_color": null,
            "_model_module": "@jupyter-widgets/controls"
          }
        },
        "58af43c178ad4e989eb411271c46996a": {
          "model_module": "@jupyter-widgets/base",
          "model_name": "LayoutModel",
          "state": {
            "_view_name": "LayoutView",
            "grid_template_rows": null,
            "right": null,
            "justify_content": null,
            "_view_module": "@jupyter-widgets/base",
            "overflow": null,
            "_model_module_version": "1.2.0",
            "_view_count": null,
            "flex_flow": null,
            "width": null,
            "min_width": null,
            "border": null,
            "align_items": null,
            "bottom": null,
            "_model_module": "@jupyter-widgets/base",
            "top": null,
            "grid_column": null,
            "overflow_y": null,
            "overflow_x": null,
            "grid_auto_flow": null,
            "grid_area": null,
            "grid_template_columns": null,
            "flex": null,
            "_model_name": "LayoutModel",
            "justify_items": null,
            "grid_row": null,
            "max_height": null,
            "align_content": null,
            "visibility": null,
            "align_self": null,
            "height": null,
            "min_height": null,
            "padding": null,
            "grid_auto_rows": null,
            "grid_gap": null,
            "max_width": null,
            "order": null,
            "_view_module_version": "1.2.0",
            "grid_template_areas": null,
            "object_position": null,
            "object_fit": null,
            "grid_auto_columns": null,
            "margin": null,
            "display": null,
            "left": null
          }
        },
        "572400cd2ee84279bd0b92b8555a723f": {
          "model_module": "@jupyter-widgets/controls",
          "model_name": "DescriptionStyleModel",
          "state": {
            "_view_name": "StyleView",
            "_model_name": "DescriptionStyleModel",
            "description_width": "",
            "_view_module": "@jupyter-widgets/base",
            "_model_module_version": "1.5.0",
            "_view_count": null,
            "_view_module_version": "1.2.0",
            "_model_module": "@jupyter-widgets/controls"
          }
        },
        "a35f488070564161b7a65da76b23ed55": {
          "model_module": "@jupyter-widgets/base",
          "model_name": "LayoutModel",
          "state": {
            "_view_name": "LayoutView",
            "grid_template_rows": null,
            "right": null,
            "justify_content": null,
            "_view_module": "@jupyter-widgets/base",
            "overflow": null,
            "_model_module_version": "1.2.0",
            "_view_count": null,
            "flex_flow": null,
            "width": null,
            "min_width": null,
            "border": null,
            "align_items": null,
            "bottom": null,
            "_model_module": "@jupyter-widgets/base",
            "top": null,
            "grid_column": null,
            "overflow_y": null,
            "overflow_x": null,
            "grid_auto_flow": null,
            "grid_area": null,
            "grid_template_columns": null,
            "flex": null,
            "_model_name": "LayoutModel",
            "justify_items": null,
            "grid_row": null,
            "max_height": null,
            "align_content": null,
            "visibility": null,
            "align_self": null,
            "height": null,
            "min_height": null,
            "padding": null,
            "grid_auto_rows": null,
            "grid_gap": null,
            "max_width": null,
            "order": null,
            "_view_module_version": "1.2.0",
            "grid_template_areas": null,
            "object_position": null,
            "object_fit": null,
            "grid_auto_columns": null,
            "margin": null,
            "display": null,
            "left": null
          }
        },
        "9d045c6b059e40a5808dcef7bd3161c4": {
          "model_module": "@jupyter-widgets/controls",
          "model_name": "HBoxModel",
          "state": {
            "_view_name": "HBoxView",
            "_dom_classes": [],
            "_model_name": "HBoxModel",
            "_view_module": "@jupyter-widgets/controls",
            "_model_module_version": "1.5.0",
            "_view_count": null,
            "_view_module_version": "1.5.0",
            "box_style": "",
            "layout": "IPY_MODEL_062fa7e60c664401a6847a7b3cce96d4",
            "_model_module": "@jupyter-widgets/controls",
            "children": [
              "IPY_MODEL_56d05d138d1c47f0ac14cff39a23e65b",
              "IPY_MODEL_bff2a135c4624c2cae904e34b6378a66"
            ]
          }
        },
        "062fa7e60c664401a6847a7b3cce96d4": {
          "model_module": "@jupyter-widgets/base",
          "model_name": "LayoutModel",
          "state": {
            "_view_name": "LayoutView",
            "grid_template_rows": null,
            "right": null,
            "justify_content": null,
            "_view_module": "@jupyter-widgets/base",
            "overflow": null,
            "_model_module_version": "1.2.0",
            "_view_count": null,
            "flex_flow": null,
            "width": null,
            "min_width": null,
            "border": null,
            "align_items": null,
            "bottom": null,
            "_model_module": "@jupyter-widgets/base",
            "top": null,
            "grid_column": null,
            "overflow_y": null,
            "overflow_x": null,
            "grid_auto_flow": null,
            "grid_area": null,
            "grid_template_columns": null,
            "flex": null,
            "_model_name": "LayoutModel",
            "justify_items": null,
            "grid_row": null,
            "max_height": null,
            "align_content": null,
            "visibility": null,
            "align_self": null,
            "height": null,
            "min_height": null,
            "padding": null,
            "grid_auto_rows": null,
            "grid_gap": null,
            "max_width": null,
            "order": null,
            "_view_module_version": "1.2.0",
            "grid_template_areas": null,
            "object_position": null,
            "object_fit": null,
            "grid_auto_columns": null,
            "margin": null,
            "display": null,
            "left": null
          }
        },
        "56d05d138d1c47f0ac14cff39a23e65b": {
          "model_module": "@jupyter-widgets/controls",
          "model_name": "FloatProgressModel",
          "state": {
            "_view_name": "ProgressView",
            "style": "IPY_MODEL_9cf1c234eb8b4677b075e0f7d9e7bf9a",
            "_dom_classes": [],
            "description": "Downloading: 100%",
            "_model_name": "FloatProgressModel",
            "bar_style": "success",
            "max": 466062,
            "_view_module": "@jupyter-widgets/controls",
            "_model_module_version": "1.5.0",
            "value": 466062,
            "_view_count": null,
            "_view_module_version": "1.5.0",
            "orientation": "horizontal",
            "min": 0,
            "description_tooltip": null,
            "_model_module": "@jupyter-widgets/controls",
            "layout": "IPY_MODEL_6456ada34c744c4da7c5673ac47d2c15"
          }
        },
        "bff2a135c4624c2cae904e34b6378a66": {
          "model_module": "@jupyter-widgets/controls",
          "model_name": "HTMLModel",
          "state": {
            "_view_name": "HTMLView",
            "style": "IPY_MODEL_32c19f35c88340d888d44427fb674af4",
            "_dom_classes": [],
            "description": "",
            "_model_name": "HTMLModel",
            "placeholder": "​",
            "_view_module": "@jupyter-widgets/controls",
            "_model_module_version": "1.5.0",
            "value": " 466k/466k [00:00&lt;00:00, 1.05MB/s]",
            "_view_count": null,
            "_view_module_version": "1.5.0",
            "description_tooltip": null,
            "_model_module": "@jupyter-widgets/controls",
            "layout": "IPY_MODEL_5b454b9268f54c809379ebfc30d814c3"
          }
        },
        "9cf1c234eb8b4677b075e0f7d9e7bf9a": {
          "model_module": "@jupyter-widgets/controls",
          "model_name": "ProgressStyleModel",
          "state": {
            "_view_name": "StyleView",
            "_model_name": "ProgressStyleModel",
            "description_width": "initial",
            "_view_module": "@jupyter-widgets/base",
            "_model_module_version": "1.5.0",
            "_view_count": null,
            "_view_module_version": "1.2.0",
            "bar_color": null,
            "_model_module": "@jupyter-widgets/controls"
          }
        },
        "6456ada34c744c4da7c5673ac47d2c15": {
          "model_module": "@jupyter-widgets/base",
          "model_name": "LayoutModel",
          "state": {
            "_view_name": "LayoutView",
            "grid_template_rows": null,
            "right": null,
            "justify_content": null,
            "_view_module": "@jupyter-widgets/base",
            "overflow": null,
            "_model_module_version": "1.2.0",
            "_view_count": null,
            "flex_flow": null,
            "width": null,
            "min_width": null,
            "border": null,
            "align_items": null,
            "bottom": null,
            "_model_module": "@jupyter-widgets/base",
            "top": null,
            "grid_column": null,
            "overflow_y": null,
            "overflow_x": null,
            "grid_auto_flow": null,
            "grid_area": null,
            "grid_template_columns": null,
            "flex": null,
            "_model_name": "LayoutModel",
            "justify_items": null,
            "grid_row": null,
            "max_height": null,
            "align_content": null,
            "visibility": null,
            "align_self": null,
            "height": null,
            "min_height": null,
            "padding": null,
            "grid_auto_rows": null,
            "grid_gap": null,
            "max_width": null,
            "order": null,
            "_view_module_version": "1.2.0",
            "grid_template_areas": null,
            "object_position": null,
            "object_fit": null,
            "grid_auto_columns": null,
            "margin": null,
            "display": null,
            "left": null
          }
        },
        "32c19f35c88340d888d44427fb674af4": {
          "model_module": "@jupyter-widgets/controls",
          "model_name": "DescriptionStyleModel",
          "state": {
            "_view_name": "StyleView",
            "_model_name": "DescriptionStyleModel",
            "description_width": "",
            "_view_module": "@jupyter-widgets/base",
            "_model_module_version": "1.5.0",
            "_view_count": null,
            "_view_module_version": "1.2.0",
            "_model_module": "@jupyter-widgets/controls"
          }
        },
        "5b454b9268f54c809379ebfc30d814c3": {
          "model_module": "@jupyter-widgets/base",
          "model_name": "LayoutModel",
          "state": {
            "_view_name": "LayoutView",
            "grid_template_rows": null,
            "right": null,
            "justify_content": null,
            "_view_module": "@jupyter-widgets/base",
            "overflow": null,
            "_model_module_version": "1.2.0",
            "_view_count": null,
            "flex_flow": null,
            "width": null,
            "min_width": null,
            "border": null,
            "align_items": null,
            "bottom": null,
            "_model_module": "@jupyter-widgets/base",
            "top": null,
            "grid_column": null,
            "overflow_y": null,
            "overflow_x": null,
            "grid_auto_flow": null,
            "grid_area": null,
            "grid_template_columns": null,
            "flex": null,
            "_model_name": "LayoutModel",
            "justify_items": null,
            "grid_row": null,
            "max_height": null,
            "align_content": null,
            "visibility": null,
            "align_self": null,
            "height": null,
            "min_height": null,
            "padding": null,
            "grid_auto_rows": null,
            "grid_gap": null,
            "max_width": null,
            "order": null,
            "_view_module_version": "1.2.0",
            "grid_template_areas": null,
            "object_position": null,
            "object_fit": null,
            "grid_auto_columns": null,
            "margin": null,
            "display": null,
            "left": null
          }
        },
        "19ea7be30d4b42088f38c7a6b707f4e4": {
          "model_module": "@jupyter-widgets/controls",
          "model_name": "HBoxModel",
          "state": {
            "_view_name": "HBoxView",
            "_dom_classes": [],
            "_model_name": "HBoxModel",
            "_view_module": "@jupyter-widgets/controls",
            "_model_module_version": "1.5.0",
            "_view_count": null,
            "_view_module_version": "1.5.0",
            "box_style": "",
            "layout": "IPY_MODEL_c00f4d06c0a74a009c32f9a205780243",
            "_model_module": "@jupyter-widgets/controls",
            "children": [
              "IPY_MODEL_028b7a8c59484896beea6d4810b990af",
              "IPY_MODEL_836d854ba3ea43d1b994596c2dd1b1a9"
            ]
          }
        },
        "c00f4d06c0a74a009c32f9a205780243": {
          "model_module": "@jupyter-widgets/base",
          "model_name": "LayoutModel",
          "state": {
            "_view_name": "LayoutView",
            "grid_template_rows": null,
            "right": null,
            "justify_content": null,
            "_view_module": "@jupyter-widgets/base",
            "overflow": null,
            "_model_module_version": "1.2.0",
            "_view_count": null,
            "flex_flow": null,
            "width": null,
            "min_width": null,
            "border": null,
            "align_items": null,
            "bottom": null,
            "_model_module": "@jupyter-widgets/base",
            "top": null,
            "grid_column": null,
            "overflow_y": null,
            "overflow_x": null,
            "grid_auto_flow": null,
            "grid_area": null,
            "grid_template_columns": null,
            "flex": null,
            "_model_name": "LayoutModel",
            "justify_items": null,
            "grid_row": null,
            "max_height": null,
            "align_content": null,
            "visibility": null,
            "align_self": null,
            "height": null,
            "min_height": null,
            "padding": null,
            "grid_auto_rows": null,
            "grid_gap": null,
            "max_width": null,
            "order": null,
            "_view_module_version": "1.2.0",
            "grid_template_areas": null,
            "object_position": null,
            "object_fit": null,
            "grid_auto_columns": null,
            "margin": null,
            "display": null,
            "left": null
          }
        },
        "028b7a8c59484896beea6d4810b990af": {
          "model_module": "@jupyter-widgets/controls",
          "model_name": "FloatProgressModel",
          "state": {
            "_view_name": "ProgressView",
            "style": "IPY_MODEL_03da41bc6d2e41da9aa1ee10881d198a",
            "_dom_classes": [],
            "description": "Downloading: 100%",
            "_model_name": "FloatProgressModel",
            "bar_style": "success",
            "max": 570,
            "_view_module": "@jupyter-widgets/controls",
            "_model_module_version": "1.5.0",
            "value": 570,
            "_view_count": null,
            "_view_module_version": "1.5.0",
            "orientation": "horizontal",
            "min": 0,
            "description_tooltip": null,
            "_model_module": "@jupyter-widgets/controls",
            "layout": "IPY_MODEL_e0591894776a42abacfea3862b93a90e"
          }
        },
        "836d854ba3ea43d1b994596c2dd1b1a9": {
          "model_module": "@jupyter-widgets/controls",
          "model_name": "HTMLModel",
          "state": {
            "_view_name": "HTMLView",
            "style": "IPY_MODEL_5eb01355588d4b67a9ea21fd4cee6595",
            "_dom_classes": [],
            "description": "",
            "_model_name": "HTMLModel",
            "placeholder": "​",
            "_view_module": "@jupyter-widgets/controls",
            "_model_module_version": "1.5.0",
            "value": " 570/570 [00:32&lt;00:00, 17.7B/s]",
            "_view_count": null,
            "_view_module_version": "1.5.0",
            "description_tooltip": null,
            "_model_module": "@jupyter-widgets/controls",
            "layout": "IPY_MODEL_5324a120ecb246edadd9aba432529126"
          }
        },
        "03da41bc6d2e41da9aa1ee10881d198a": {
          "model_module": "@jupyter-widgets/controls",
          "model_name": "ProgressStyleModel",
          "state": {
            "_view_name": "StyleView",
            "_model_name": "ProgressStyleModel",
            "description_width": "initial",
            "_view_module": "@jupyter-widgets/base",
            "_model_module_version": "1.5.0",
            "_view_count": null,
            "_view_module_version": "1.2.0",
            "bar_color": null,
            "_model_module": "@jupyter-widgets/controls"
          }
        },
        "e0591894776a42abacfea3862b93a90e": {
          "model_module": "@jupyter-widgets/base",
          "model_name": "LayoutModel",
          "state": {
            "_view_name": "LayoutView",
            "grid_template_rows": null,
            "right": null,
            "justify_content": null,
            "_view_module": "@jupyter-widgets/base",
            "overflow": null,
            "_model_module_version": "1.2.0",
            "_view_count": null,
            "flex_flow": null,
            "width": null,
            "min_width": null,
            "border": null,
            "align_items": null,
            "bottom": null,
            "_model_module": "@jupyter-widgets/base",
            "top": null,
            "grid_column": null,
            "overflow_y": null,
            "overflow_x": null,
            "grid_auto_flow": null,
            "grid_area": null,
            "grid_template_columns": null,
            "flex": null,
            "_model_name": "LayoutModel",
            "justify_items": null,
            "grid_row": null,
            "max_height": null,
            "align_content": null,
            "visibility": null,
            "align_self": null,
            "height": null,
            "min_height": null,
            "padding": null,
            "grid_auto_rows": null,
            "grid_gap": null,
            "max_width": null,
            "order": null,
            "_view_module_version": "1.2.0",
            "grid_template_areas": null,
            "object_position": null,
            "object_fit": null,
            "grid_auto_columns": null,
            "margin": null,
            "display": null,
            "left": null
          }
        },
        "5eb01355588d4b67a9ea21fd4cee6595": {
          "model_module": "@jupyter-widgets/controls",
          "model_name": "DescriptionStyleModel",
          "state": {
            "_view_name": "StyleView",
            "_model_name": "DescriptionStyleModel",
            "description_width": "",
            "_view_module": "@jupyter-widgets/base",
            "_model_module_version": "1.5.0",
            "_view_count": null,
            "_view_module_version": "1.2.0",
            "_model_module": "@jupyter-widgets/controls"
          }
        },
        "5324a120ecb246edadd9aba432529126": {
          "model_module": "@jupyter-widgets/base",
          "model_name": "LayoutModel",
          "state": {
            "_view_name": "LayoutView",
            "grid_template_rows": null,
            "right": null,
            "justify_content": null,
            "_view_module": "@jupyter-widgets/base",
            "overflow": null,
            "_model_module_version": "1.2.0",
            "_view_count": null,
            "flex_flow": null,
            "width": null,
            "min_width": null,
            "border": null,
            "align_items": null,
            "bottom": null,
            "_model_module": "@jupyter-widgets/base",
            "top": null,
            "grid_column": null,
            "overflow_y": null,
            "overflow_x": null,
            "grid_auto_flow": null,
            "grid_area": null,
            "grid_template_columns": null,
            "flex": null,
            "_model_name": "LayoutModel",
            "justify_items": null,
            "grid_row": null,
            "max_height": null,
            "align_content": null,
            "visibility": null,
            "align_self": null,
            "height": null,
            "min_height": null,
            "padding": null,
            "grid_auto_rows": null,
            "grid_gap": null,
            "max_width": null,
            "order": null,
            "_view_module_version": "1.2.0",
            "grid_template_areas": null,
            "object_position": null,
            "object_fit": null,
            "grid_auto_columns": null,
            "margin": null,
            "display": null,
            "left": null
          }
        },
        "9141c728a29b42f8965c5e2c3fa7ba56": {
          "model_module": "@jupyter-widgets/controls",
          "model_name": "HBoxModel",
          "state": {
            "_view_name": "HBoxView",
            "_dom_classes": [],
            "_model_name": "HBoxModel",
            "_view_module": "@jupyter-widgets/controls",
            "_model_module_version": "1.5.0",
            "_view_count": null,
            "_view_module_version": "1.5.0",
            "box_style": "",
            "layout": "IPY_MODEL_b71f285970404f50a914639817653231",
            "_model_module": "@jupyter-widgets/controls",
            "children": [
              "IPY_MODEL_036ff2164a29499eb21c41dbe6dc33d3",
              "IPY_MODEL_704b2cc79601443da072eb83bef9183f"
            ]
          }
        },
        "b71f285970404f50a914639817653231": {
          "model_module": "@jupyter-widgets/base",
          "model_name": "LayoutModel",
          "state": {
            "_view_name": "LayoutView",
            "grid_template_rows": null,
            "right": null,
            "justify_content": null,
            "_view_module": "@jupyter-widgets/base",
            "overflow": null,
            "_model_module_version": "1.2.0",
            "_view_count": null,
            "flex_flow": null,
            "width": null,
            "min_width": null,
            "border": null,
            "align_items": null,
            "bottom": null,
            "_model_module": "@jupyter-widgets/base",
            "top": null,
            "grid_column": null,
            "overflow_y": null,
            "overflow_x": null,
            "grid_auto_flow": null,
            "grid_area": null,
            "grid_template_columns": null,
            "flex": null,
            "_model_name": "LayoutModel",
            "justify_items": null,
            "grid_row": null,
            "max_height": null,
            "align_content": null,
            "visibility": null,
            "align_self": null,
            "height": null,
            "min_height": null,
            "padding": null,
            "grid_auto_rows": null,
            "grid_gap": null,
            "max_width": null,
            "order": null,
            "_view_module_version": "1.2.0",
            "grid_template_areas": null,
            "object_position": null,
            "object_fit": null,
            "grid_auto_columns": null,
            "margin": null,
            "display": null,
            "left": null
          }
        },
        "036ff2164a29499eb21c41dbe6dc33d3": {
          "model_module": "@jupyter-widgets/controls",
          "model_name": "FloatProgressModel",
          "state": {
            "_view_name": "ProgressView",
            "style": "IPY_MODEL_c6136ef6976b471cb094a035e6c184fb",
            "_dom_classes": [],
            "description": "Downloading: 100%",
            "_model_name": "FloatProgressModel",
            "bar_style": "success",
            "max": 440473133,
            "_view_module": "@jupyter-widgets/controls",
            "_model_module_version": "1.5.0",
            "value": 440473133,
            "_view_count": null,
            "_view_module_version": "1.5.0",
            "orientation": "horizontal",
            "min": 0,
            "description_tooltip": null,
            "_model_module": "@jupyter-widgets/controls",
            "layout": "IPY_MODEL_b8063bf3043a4b1f9a3fce1326e5ca6c"
          }
        },
        "704b2cc79601443da072eb83bef9183f": {
          "model_module": "@jupyter-widgets/controls",
          "model_name": "HTMLModel",
          "state": {
            "_view_name": "HTMLView",
            "style": "IPY_MODEL_5277408b7f23438d888fd6469749be3a",
            "_dom_classes": [],
            "description": "",
            "_model_name": "HTMLModel",
            "placeholder": "​",
            "_view_module": "@jupyter-widgets/controls",
            "_model_module_version": "1.5.0",
            "value": " 440M/440M [00:14&lt;00:00, 30.6MB/s]",
            "_view_count": null,
            "_view_module_version": "1.5.0",
            "description_tooltip": null,
            "_model_module": "@jupyter-widgets/controls",
            "layout": "IPY_MODEL_3e6e0f4aceeb4fd9a3540245da5fd320"
          }
        },
        "c6136ef6976b471cb094a035e6c184fb": {
          "model_module": "@jupyter-widgets/controls",
          "model_name": "ProgressStyleModel",
          "state": {
            "_view_name": "StyleView",
            "_model_name": "ProgressStyleModel",
            "description_width": "initial",
            "_view_module": "@jupyter-widgets/base",
            "_model_module_version": "1.5.0",
            "_view_count": null,
            "_view_module_version": "1.2.0",
            "bar_color": null,
            "_model_module": "@jupyter-widgets/controls"
          }
        },
        "b8063bf3043a4b1f9a3fce1326e5ca6c": {
          "model_module": "@jupyter-widgets/base",
          "model_name": "LayoutModel",
          "state": {
            "_view_name": "LayoutView",
            "grid_template_rows": null,
            "right": null,
            "justify_content": null,
            "_view_module": "@jupyter-widgets/base",
            "overflow": null,
            "_model_module_version": "1.2.0",
            "_view_count": null,
            "flex_flow": null,
            "width": null,
            "min_width": null,
            "border": null,
            "align_items": null,
            "bottom": null,
            "_model_module": "@jupyter-widgets/base",
            "top": null,
            "grid_column": null,
            "overflow_y": null,
            "overflow_x": null,
            "grid_auto_flow": null,
            "grid_area": null,
            "grid_template_columns": null,
            "flex": null,
            "_model_name": "LayoutModel",
            "justify_items": null,
            "grid_row": null,
            "max_height": null,
            "align_content": null,
            "visibility": null,
            "align_self": null,
            "height": null,
            "min_height": null,
            "padding": null,
            "grid_auto_rows": null,
            "grid_gap": null,
            "max_width": null,
            "order": null,
            "_view_module_version": "1.2.0",
            "grid_template_areas": null,
            "object_position": null,
            "object_fit": null,
            "grid_auto_columns": null,
            "margin": null,
            "display": null,
            "left": null
          }
        },
        "5277408b7f23438d888fd6469749be3a": {
          "model_module": "@jupyter-widgets/controls",
          "model_name": "DescriptionStyleModel",
          "state": {
            "_view_name": "StyleView",
            "_model_name": "DescriptionStyleModel",
            "description_width": "",
            "_view_module": "@jupyter-widgets/base",
            "_model_module_version": "1.5.0",
            "_view_count": null,
            "_view_module_version": "1.2.0",
            "_model_module": "@jupyter-widgets/controls"
          }
        },
        "3e6e0f4aceeb4fd9a3540245da5fd320": {
          "model_module": "@jupyter-widgets/base",
          "model_name": "LayoutModel",
          "state": {
            "_view_name": "LayoutView",
            "grid_template_rows": null,
            "right": null,
            "justify_content": null,
            "_view_module": "@jupyter-widgets/base",
            "overflow": null,
            "_model_module_version": "1.2.0",
            "_view_count": null,
            "flex_flow": null,
            "width": null,
            "min_width": null,
            "border": null,
            "align_items": null,
            "bottom": null,
            "_model_module": "@jupyter-widgets/base",
            "top": null,
            "grid_column": null,
            "overflow_y": null,
            "overflow_x": null,
            "grid_auto_flow": null,
            "grid_area": null,
            "grid_template_columns": null,
            "flex": null,
            "_model_name": "LayoutModel",
            "justify_items": null,
            "grid_row": null,
            "max_height": null,
            "align_content": null,
            "visibility": null,
            "align_self": null,
            "height": null,
            "min_height": null,
            "padding": null,
            "grid_auto_rows": null,
            "grid_gap": null,
            "max_width": null,
            "order": null,
            "_view_module_version": "1.2.0",
            "grid_template_areas": null,
            "object_position": null,
            "object_fit": null,
            "grid_auto_columns": null,
            "margin": null,
            "display": null,
            "left": null
          }
        }
      }
    }
  },
  "cells": [
    {
      "cell_type": "markdown",
      "metadata": {
        "id": "view-in-github",
        "colab_type": "text"
      },
      "source": [
        "<a href=\"https://colab.research.google.com/github/clawrencia/COMP90042_Project/blob/main/NLP_Project_1.ipynb\" target=\"_parent\"><img src=\"https://colab.research.google.com/assets/colab-badge.svg\" alt=\"Open In Colab\"/></a>"
      ]
    },
    {
      "cell_type": "markdown",
      "metadata": {
        "id": "txdwhIWK5z-q"
      },
      "source": [
        "TASK 1: Rumour Classification of Twitter Data"
      ]
    },
    {
      "cell_type": "code",
      "metadata": {
        "colab": {
          "base_uri": "https://localhost:8080/"
        },
        "id": "VQ5CE4i4dFr4",
        "outputId": "0274eb77-81e4-4b06-e374-7ce2c15d54ab"
      },
      "source": [
        "!pip install torch torchvision transformers\n",
        "!pip install tweet-preprocessor\n",
        "!pip install nltk"
      ],
      "execution_count": null,
      "outputs": [
        {
          "output_type": "stream",
          "text": [
            "Requirement already satisfied: torch in /usr/local/lib/python3.7/dist-packages (1.8.1+cu101)\n",
            "Requirement already satisfied: torchvision in /usr/local/lib/python3.7/dist-packages (0.9.1+cu101)\n",
            "Collecting transformers\n",
            "\u001b[?25l  Downloading https://files.pythonhosted.org/packages/b0/9e/5b80becd952d5f7250eaf8fc64b957077b12ccfe73e9c03d37146ab29712/transformers-4.6.0-py3-none-any.whl (2.3MB)\n",
            "\u001b[K     |████████████████████████████████| 2.3MB 11.1MB/s \n",
            "\u001b[?25hRequirement already satisfied: typing-extensions in /usr/local/lib/python3.7/dist-packages (from torch) (3.7.4.3)\n",
            "Requirement already satisfied: numpy in /usr/local/lib/python3.7/dist-packages (from torch) (1.19.5)\n",
            "Requirement already satisfied: pillow>=4.1.1 in /usr/local/lib/python3.7/dist-packages (from torchvision) (7.1.2)\n",
            "Requirement already satisfied: packaging in /usr/local/lib/python3.7/dist-packages (from transformers) (20.9)\n",
            "Collecting huggingface-hub==0.0.8\n",
            "  Downloading https://files.pythonhosted.org/packages/a1/88/7b1e45720ecf59c6c6737ff332f41c955963090a18e72acbcbeac6b25e86/huggingface_hub-0.0.8-py3-none-any.whl\n",
            "Collecting tokenizers<0.11,>=0.10.1\n",
            "\u001b[?25l  Downloading https://files.pythonhosted.org/packages/ae/04/5b870f26a858552025a62f1649c20d29d2672c02ff3c3fb4c688ca46467a/tokenizers-0.10.2-cp37-cp37m-manylinux2010_x86_64.whl (3.3MB)\n",
            "\u001b[K     |████████████████████████████████| 3.3MB 37.5MB/s \n",
            "\u001b[?25hRequirement already satisfied: importlib-metadata; python_version < \"3.8\" in /usr/local/lib/python3.7/dist-packages (from transformers) (4.0.1)\n",
            "Collecting sacremoses\n",
            "\u001b[?25l  Downloading https://files.pythonhosted.org/packages/75/ee/67241dc87f266093c533a2d4d3d69438e57d7a90abb216fa076e7d475d4a/sacremoses-0.0.45-py3-none-any.whl (895kB)\n",
            "\u001b[K     |████████████████████████████████| 901kB 34.8MB/s \n",
            "\u001b[?25hRequirement already satisfied: requests in /usr/local/lib/python3.7/dist-packages (from transformers) (2.23.0)\n",
            "Requirement already satisfied: filelock in /usr/local/lib/python3.7/dist-packages (from transformers) (3.0.12)\n",
            "Requirement already satisfied: tqdm>=4.27 in /usr/local/lib/python3.7/dist-packages (from transformers) (4.41.1)\n",
            "Requirement already satisfied: regex!=2019.12.17 in /usr/local/lib/python3.7/dist-packages (from transformers) (2019.12.20)\n",
            "Requirement already satisfied: pyparsing>=2.0.2 in /usr/local/lib/python3.7/dist-packages (from packaging->transformers) (2.4.7)\n",
            "Requirement already satisfied: zipp>=0.5 in /usr/local/lib/python3.7/dist-packages (from importlib-metadata; python_version < \"3.8\"->transformers) (3.4.1)\n",
            "Requirement already satisfied: joblib in /usr/local/lib/python3.7/dist-packages (from sacremoses->transformers) (1.0.1)\n",
            "Requirement already satisfied: click in /usr/local/lib/python3.7/dist-packages (from sacremoses->transformers) (7.1.2)\n",
            "Requirement already satisfied: six in /usr/local/lib/python3.7/dist-packages (from sacremoses->transformers) (1.15.0)\n",
            "Requirement already satisfied: urllib3!=1.25.0,!=1.25.1,<1.26,>=1.21.1 in /usr/local/lib/python3.7/dist-packages (from requests->transformers) (1.24.3)\n",
            "Requirement already satisfied: certifi>=2017.4.17 in /usr/local/lib/python3.7/dist-packages (from requests->transformers) (2020.12.5)\n",
            "Requirement already satisfied: idna<3,>=2.5 in /usr/local/lib/python3.7/dist-packages (from requests->transformers) (2.10)\n",
            "Requirement already satisfied: chardet<4,>=3.0.2 in /usr/local/lib/python3.7/dist-packages (from requests->transformers) (3.0.4)\n",
            "Installing collected packages: huggingface-hub, tokenizers, sacremoses, transformers\n",
            "Successfully installed huggingface-hub-0.0.8 sacremoses-0.0.45 tokenizers-0.10.2 transformers-4.6.0\n",
            "Collecting tweet-preprocessor\n",
            "  Downloading https://files.pythonhosted.org/packages/17/9d/71bd016a9edcef8860c607e531f30bd09b13103c7951ae73dd2bf174163c/tweet_preprocessor-0.6.0-py3-none-any.whl\n",
            "Installing collected packages: tweet-preprocessor\n",
            "Successfully installed tweet-preprocessor-0.6.0\n",
            "Requirement already satisfied: nltk in /usr/local/lib/python3.7/dist-packages (3.2.5)\n",
            "Requirement already satisfied: six in /usr/local/lib/python3.7/dist-packages (from nltk) (1.15.0)\n"
          ],
          "name": "stdout"
        }
      ]
    },
    {
      "cell_type": "code",
      "metadata": {
        "colab": {
          "base_uri": "https://localhost:8080/"
        },
        "id": "i8EPX1fnu-iX",
        "outputId": "4f677651-c6a3-44ec-8ac8-40eff0fbc48d"
      },
      "source": [
        "import nltk\n",
        "nltk.download('words')\n",
        "nltk.download('wordnet')"
      ],
      "execution_count": null,
      "outputs": [
        {
          "output_type": "stream",
          "text": [
            "[nltk_data] Downloading package words to /root/nltk_data...\n",
            "[nltk_data]   Unzipping corpora/words.zip.\n",
            "[nltk_data] Downloading package wordnet to /root/nltk_data...\n",
            "[nltk_data]   Unzipping corpora/wordnet.zip.\n"
          ],
          "name": "stdout"
        },
        {
          "output_type": "execute_result",
          "data": {
            "text/plain": [
              "True"
            ]
          },
          "metadata": {
            "tags": []
          },
          "execution_count": 3
        }
      ]
    },
    {
      "cell_type": "code",
      "metadata": {
        "colab": {
          "base_uri": "https://localhost:8080/"
        },
        "id": "1DhVEdj1k_02",
        "outputId": "f9435d15-dd7d-40d7-c0d2-f3d34c114f4a"
      },
      "source": [
        "#Mount to GDrive Files\n",
        "from google.colab import drive\n",
        "drive.mount('/content/drive')"
      ],
      "execution_count": null,
      "outputs": [
        {
          "output_type": "stream",
          "text": [
            "Mounted at /content/drive\n"
          ],
          "name": "stdout"
        }
      ]
    },
    {
      "cell_type": "code",
      "metadata": {
        "id": "iNKyo2Rdk18e"
      },
      "source": [
        "#Load the json files\n",
        "import json\n",
        "import pandas as pd\n",
        "import torch\n",
        "\n",
        "\n",
        "file_train_x = '/content/drive/MyDrive/Data/train.data.jsonl'\n",
        "file_train_y = '/content/drive/MyDrive/Data/train.label.json'\n",
        "file_dev_x = '/content/drive/MyDrive/Data/dev.data.jsonl'\n",
        "file_dev_y = '/content/drive/MyDrive/Data/dev.label.json'\n",
        "file_test_x = '/content/drive/MyDrive/Data/test.data.jsonl'\n",
        "\n"
      ],
      "execution_count": null,
      "outputs": []
    },
    {
      "cell_type": "code",
      "metadata": {
        "id": "_qmXOpv8kn5Y"
      },
      "source": [
        "#Loading x_data as df\n",
        "\n",
        "def load_feat_df(file_path):\n",
        "  line_list = []\n",
        "  with open(file_path) as f:\n",
        "      for line in f:\n",
        "          a_dict = json.loads(line)\n",
        "          df = pd.DataFrame(a_dict)\n",
        "          line_list.append(df)\n",
        "\n",
        "  df = pd.concat(line_list)\n",
        "  df = df.loc[:,['id_str','in_reply_to_status_id_str','text']]\n",
        "\n",
        "  return df\n",
        "\n",
        "x_dev_df = load_feat_df(file_dev_x)\n",
        "x_train_df = load_feat_df(file_train_x)\n",
        "x_test_df = load_feat_df(file_test_x)"
      ],
      "execution_count": null,
      "outputs": []
    },
    {
      "cell_type": "code",
      "metadata": {
        "id": "XN-bkBAekuj7"
      },
      "source": [
        "#Loading labels as df\n",
        "def load_label_df(file_path):\n",
        " \n",
        "  with open(file_path) as f:\n",
        "    a_dict = json.load(f)\n",
        "  df =pd.DataFrame.from_dict(a_dict, orient='index')\n",
        "  return df\n",
        "\n",
        "y_dev_df = load_label_df(file_dev_y)\n",
        "y_train_df = load_label_df(file_train_y)\n"
      ],
      "execution_count": null,
      "outputs": []
    },
    {
      "cell_type": "code",
      "metadata": {
        "id": "ZNpbZeSCuqoA"
      },
      "source": [
        "# A lemmatizer function \n",
        "\n",
        "from nltk.corpus import wordnet\n",
        "\n",
        "lemmatizer = nltk.stem.wordnet.WordNetLemmatizer()\n",
        "words = set(nltk.corpus.words.words()) #a list of words provided by NLTK\n",
        "words = set([ word.lower() for word in words ]) #lowercase all the words for better matching\n",
        "\n",
        "def lemmatize(word):\n",
        "    lemma = lemmatizer.lemmatize(word,'v')\n",
        "    if lemma == word:\n",
        "        lemma = lemmatizer.lemmatize(word,'n')\n",
        "    return lemma"
      ],
      "execution_count": null,
      "outputs": []
    },
    {
      "cell_type": "code",
      "metadata": {
        "id": "t4jD82o_UfaK"
      },
      "source": [
        "#Preprocessing and Cleaning Up Data\n",
        "import preprocessor as p \n",
        "import string \n",
        "\n",
        "#A function to clean text\n",
        "def clean_text(dirty_text):\n",
        "  #remove non-ascii words and characters\n",
        "  encoded_string = dirty_text.encode(\"ascii\", \"ignore\")\n",
        "  text = encoded_string.decode()\n",
        "\n",
        "  #remove &, < and >\n",
        "  text = text.replace(r'&amp;',r'and')\n",
        "  text = text.replace(r'&lt;',r'<')\n",
        "  text = text.replace(r'&gt;',r'>')\n",
        "  \n",
        "  #remove punctuation\n",
        "  punctuation_list = string.punctuation.replace(\"#\", \"\")\n",
        "  text = text.translate(str.maketrans('', '', punctuation_list))\n",
        "\n",
        "  #Lowercase and strip blankspace from both ends\n",
        "  text = text.lower()\n",
        "  text = text.strip()\n",
        "\n",
        "  return text\n"
      ],
      "execution_count": null,
      "outputs": []
    },
    {
      "cell_type": "code",
      "metadata": {
        "id": "PeqCHiCVq8tQ"
      },
      "source": [
        "# Max Match Function for Hashtags \n",
        "import re\n",
        "\n",
        "def max_match_hashtags(dataset):\n",
        "  cleaned_tweet=[]\n",
        "  p.set_options(p.OPT.URL, p.OPT.EMOJI,p.OPT.SMILEY,p.OPT.MENTION)\n",
        "  for tweet in dataset['text']:\n",
        "    tweet = p.clean(str(tweet))\n",
        "    tweet = clean_text(tweet)\n",
        "    for word in tweet.split():\n",
        "        if word.startswith('#'):\n",
        "          hashtag = word\n",
        "          tokens=[]\n",
        "          index =0\n",
        "          \n",
        "          while index <len(hashtag):\n",
        "            maxWord=hashtag[index]\n",
        "              \n",
        "              #looping over the letters in a word, and finding the longest word        \n",
        "            for j in range(index,len(hashtag)):\n",
        "              temp = hashtag[index:j+1]\n",
        "              \n",
        "              #find the lemmatized word in the corpus, and assign it as a maxWord if found\n",
        "              if lemmatize(temp) in words and len(temp)>len(maxWord):\n",
        "                  maxWord = temp\n",
        "              else:\n",
        "                  continue\n",
        "                  \n",
        "            #Changing the index with respect to the maximum word found\n",
        "            index=index+len(maxWord)\n",
        "            tokens.append(maxWord)\n",
        "          tokens = ' '.join(tokens[1:])\n",
        "          tweet = tweet.replace(word,tokens)\n",
        "    cleaned_tweet.append(tweet)\n",
        " \n",
        "  dataset['text_']= cleaned_tweet\n",
        "  return dataset\n",
        "\n",
        "x_dev_df_clean = max_match_hashtags(x_dev_df)\n",
        "x_train_df_clean = max_match_hashtags(x_train_df)\n",
        "x_test_df_clean = max_match_hashtags(x_test_df)"
      ],
      "execution_count": null,
      "outputs": []
    },
    {
      "cell_type": "code",
      "metadata": {
        "id": "22igZn98lp9c"
      },
      "source": [
        "# Function to concate reply tweets for train and dev data\n",
        "import preprocessor as p \n",
        "import numpy as np\n",
        "from sklearn import preprocessing\n",
        "\n",
        "le = preprocessing.LabelEncoder()\n",
        "def combine_tweets(x_dataset,y_dataset,le):\n",
        "  label = y_dataset[0]\n",
        "  label = le.fit_transform(label)\n",
        "\n",
        "  main_tweet_df = pd.DataFrame(columns=['id_str','text'])\n",
        "\n",
        "  for index,row in x_dataset.iterrows():\n",
        "  \n",
        "    if row['in_reply_to_status_id_str']==None:\n",
        "      main_tweet= {'id_str':row['id_str'], 'text': row['text_']}\n",
        "      main_tweet_df = main_tweet_df.append(main_tweet,ignore_index=True)\n",
        "      x_dataset.drop(index)\n",
        "\n",
        "  replies_x =x_dataset.groupby(x_dataset['in_reply_to_status_id_str'],sort=False)['text_'].apply(' '.join).reset_index()\n",
        "  replies_x.columns =['id_str','reply_text']\n",
        "\n",
        "  df = main_tweet_df.merge(replies_x, on='id_str',how='left')\n",
        "  df['label'] = np.array(label)\n",
        "  df['reply_text'] = df['reply_text'].fillna('None')\n",
        "  df['combined'] = (df['text'].map(str) +' '+df['reply_text'].map(str)).apply(lambda row:row.strip())\n",
        "  return df\n",
        "\n",
        "x_dev_combined_df = combine_tweets(x_dev_df_clean,y_dev_df,le)\n",
        "x_train_combined_df = combine_tweets(x_train_df_clean,y_train_df,le)\n",
        "\n",
        "#Uncomment for No Preprocessing\n",
        "#x_dev_combined_df = combine_tweets(x_dev_df,y_dev_df,le) #no preprocessing\n",
        "#x_train_combined_df = combine_tweets(x_train_df,y_train_df,le) #no preprocessing"
      ],
      "execution_count": null,
      "outputs": []
    },
    {
      "cell_type": "code",
      "metadata": {
        "id": "ymnmm0MU3up4"
      },
      "source": [
        "# Function to concate reply tweets for test and COVID-19 data\n",
        "import preprocessor as p \n",
        "import numpy as np\n",
        "\n",
        "def combine_tweets_test(x_dataset):\n",
        "\n",
        "  main_tweet_df = pd.DataFrame(columns=['id_str','text'])\n",
        "\n",
        "  for index,row in x_dataset.iterrows():\n",
        "  \n",
        "    if row['in_reply_to_status_id_str']==None:\n",
        "      main_tweet= {'id_str':row['id_str'], 'text': row['text_']}\n",
        "      main_tweet_df = main_tweet_df.append(main_tweet,ignore_index=True)\n",
        "      x_dataset.drop(index)\n",
        "\n",
        "  replies_x =x_dataset.groupby(x_dataset['in_reply_to_status_id_str'],sort=False)['text_'].apply(' '.join).reset_index()\n",
        "  replies_x.columns =['id_str','reply_text']\n",
        "\n",
        "  df = main_tweet_df.merge(replies_x, on='id_str',how='left')\n",
        " \n",
        "  df['reply_text'] = df['reply_text'].fillna('None')\n",
        "  df['combined'] = (df['text'].map(str) +' '+df['reply_text'].map(str)).apply(lambda row:row.strip())\n",
        "  return df\n",
        "\n",
        "x_test_combined_df = combine_tweets_test(x_test_df_clean)\n",
        "\n",
        "#Uncomment this for no preprocessing \n",
        "# x_test_combined_df = combine_tweets_test(x_test_df) #no preprocessing"
      ],
      "execution_count": null,
      "outputs": []
    },
    {
      "cell_type": "code",
      "metadata": {
        "colab": {
          "base_uri": "https://localhost:8080/"
        },
        "id": "3uuRk4m_PwpM",
        "outputId": "d3513d63-edd7-4dc3-a2a7-f75baa20f030"
      },
      "source": [
        "#Check shape\n",
        "x_train_combined_df.shape\n",
        "x_test_combined_df.shape\n",
        "x_dev_combined_df.shape"
      ],
      "execution_count": null,
      "outputs": [
        {
          "output_type": "execute_result",
          "data": {
            "text/plain": [
              "(580, 5)"
            ]
          },
          "metadata": {
            "tags": []
          },
          "execution_count": 16
        }
      ]
    },
    {
      "cell_type": "code",
      "metadata": {
        "colab": {
          "base_uri": "https://localhost:8080/"
        },
        "id": "xkJCJFFPu5Kh",
        "outputId": "f6ce9e4c-3933-4456-86c8-1beb24d471b3"
      },
      "source": [
        "#Check stats of data\n",
        "\n",
        "def get_stats(data):\n",
        "  rumour_count = 0\n",
        "  non_rumour_count = 0\n",
        "  data_count = 0\n",
        "\n",
        "  for index, row in data.iterrows():\n",
        "      data_count += 1\n",
        "      if row['label'] == 1:\n",
        "        rumour_count += 1\n",
        "      elif row['label'] == 0:\n",
        "        non_rumour_count += 1\n",
        "  print('Data Size: '+str(data_count))\n",
        "  print('Rumour: '+str(rumour_count))\n",
        "  print('Non-Rumour: '+str(non_rumour_count))\n",
        "\n",
        "get_stats(x_dev_combined_df)\n",
        "get_stats(x_test_combined_df)\n",
        "get_stats(x_train_combined_df)"
      ],
      "execution_count": null,
      "outputs": [
        {
          "output_type": "stream",
          "text": [
            "Data Size: 4641\n",
            "Rumour: 1583\n",
            "Non-Rumour: 3058\n"
          ],
          "name": "stdout"
        }
      ]
    },
    {
      "cell_type": "code",
      "metadata": {
        "colab": {
          "base_uri": "https://localhost:8080/",
          "height": 498,
          "referenced_widgets": [
            "7375338872e34098abe546280931e450",
            "289db3134e39401f80a0f79cd6196982",
            "dac5f54ebb304f99b61728feed77b174",
            "a4524389435a4deabcd35522d6dd32b6",
            "934bd07f844442f3b4ae25d85599eda4",
            "244d68ce68f3408aa26ff0c8cc0c02be",
            "e1627b25f7a94a96bdc767bb994314d2",
            "b3a1b4cfe79345e3b490224b0edf932e",
            "b5283b119add4f02bfc89556c0dfffc0",
            "6ade109196e24ad5bad2b32d9f2a7ef0",
            "64aac43dd3eb4198987a3faaff73d56b",
            "219e07b46ead4f54a128182954ba6bf7",
            "6a0f8371931a472588775669794fa2ac",
            "58af43c178ad4e989eb411271c46996a",
            "572400cd2ee84279bd0b92b8555a723f",
            "a35f488070564161b7a65da76b23ed55",
            "9d045c6b059e40a5808dcef7bd3161c4",
            "062fa7e60c664401a6847a7b3cce96d4",
            "56d05d138d1c47f0ac14cff39a23e65b",
            "bff2a135c4624c2cae904e34b6378a66",
            "9cf1c234eb8b4677b075e0f7d9e7bf9a",
            "6456ada34c744c4da7c5673ac47d2c15",
            "32c19f35c88340d888d44427fb674af4",
            "5b454b9268f54c809379ebfc30d814c3"
          ]
        },
        "id": "gFfmg45eyWxb",
        "outputId": "0efafa13-b2dc-4833-9ef1-f1f217996240"
      },
      "source": [
        "# A function to check the max length of the token with respect to BERT BASE \n",
        "from transformers import BertTokenizer\n",
        "import seaborn as sns\n",
        "import matplotlib.pyplot as plt\n",
        "\n",
        "def check_max_length(x_dataset):\n",
        "  tokenizer = BertTokenizer.from_pretrained('bert-base-uncased')\n",
        "  token_lens = []\n",
        "  token_lens_reply=[]\n",
        "  max_len=0\n",
        "  for txt in x_dataset['reply_text']:\n",
        "    input_ids = tokenizer.encode(str(txt),max_length=512)\n",
        "    token_lens.append(len(input_ids))\n",
        "  \n",
        "  sns.distplot(token_lens)\n",
        "  plt.xlim([0,512]);\n",
        "  plt.xlabel('Token count');\n",
        " \n",
        "#Check the max token by using the train dataset which is the bigger dataset)\n",
        "#The tokenization is done on 'reply_text' data which is a coombination of all the\n",
        "#replies within a tweet. \n",
        "\n",
        "check_max_length(x_train_combined_df) #value of 512 for train"
      ],
      "execution_count": null,
      "outputs": [
        {
          "output_type": "display_data",
          "data": {
            "application/vnd.jupyter.widget-view+json": {
              "model_id": "7375338872e34098abe546280931e450",
              "version_minor": 0,
              "version_major": 2
            },
            "text/plain": [
              "HBox(children=(FloatProgress(value=0.0, description='Downloading', max=231508.0, style=ProgressStyle(descripti…"
            ]
          },
          "metadata": {
            "tags": []
          }
        },
        {
          "output_type": "stream",
          "text": [
            "\n"
          ],
          "name": "stdout"
        },
        {
          "output_type": "display_data",
          "data": {
            "application/vnd.jupyter.widget-view+json": {
              "model_id": "b5283b119add4f02bfc89556c0dfffc0",
              "version_minor": 0,
              "version_major": 2
            },
            "text/plain": [
              "HBox(children=(FloatProgress(value=0.0, description='Downloading', max=28.0, style=ProgressStyle(description_w…"
            ]
          },
          "metadata": {
            "tags": []
          }
        },
        {
          "output_type": "stream",
          "text": [
            "\n"
          ],
          "name": "stdout"
        },
        {
          "output_type": "display_data",
          "data": {
            "application/vnd.jupyter.widget-view+json": {
              "model_id": "9d045c6b059e40a5808dcef7bd3161c4",
              "version_minor": 0,
              "version_major": 2
            },
            "text/plain": [
              "HBox(children=(FloatProgress(value=0.0, description='Downloading', max=466062.0, style=ProgressStyle(descripti…"
            ]
          },
          "metadata": {
            "tags": []
          }
        },
        {
          "output_type": "stream",
          "text": [
            "Truncation was not explicitly activated but `max_length` is provided a specific value, please use `truncation=True` to explicitly truncate examples to max length. Defaulting to 'longest_first' truncation strategy. If you encode pairs of sequences (GLUE-style) with the tokenizer you can select this strategy more precisely by providing a specific strategy to `truncation`.\n"
          ],
          "name": "stderr"
        },
        {
          "output_type": "stream",
          "text": [
            "\n"
          ],
          "name": "stdout"
        },
        {
          "output_type": "stream",
          "text": [
            "/usr/local/lib/python3.7/dist-packages/seaborn/distributions.py:2557: FutureWarning: `distplot` is a deprecated function and will be removed in a future version. Please adapt your code to use either `displot` (a figure-level function with similar flexibility) or `histplot` (an axes-level function for histograms).\n",
            "  warnings.warn(msg, FutureWarning)\n"
          ],
          "name": "stderr"
        },
        {
          "output_type": "display_data",
          "data": {
            "image/png": "[encoded data removed]",
            "text/plain": [
              "<Figure size 432x288 with 1 Axes>"
            ]
          },
          "metadata": {
            "tags": [],
            "needs_background": "light"
          }
        }
      ]
    },
    {
      "cell_type": "code",
      "metadata": {
        "id": "JmZV3FmDiIOU"
      },
      "source": [
        "import torch\n",
        "from torch.utils.data import Dataset\n",
        "from transformers import BertTokenizer, AutoTokenizer\n",
        "import pandas as pd\n",
        "\n",
        "#A Class that creates a a tokenized IDS and attention mask values with respect to BERT BASE \n",
        "#This class is for train and dev data only\n",
        "class DatasetTokenizer(Dataset):\n",
        "\n",
        "  def __init__(self,dataset,max_len):\n",
        "    self.dataset=dataset\n",
        "    self.max_len= max_len\n",
        "    self.tokenizer = AutoTokenizer.from_pretrained('bert-base-uncased')\n",
        "  def __len__(self):\n",
        "    return len(self.dataset)\n",
        "  \n",
        "  def __getitem__(self,index):\n",
        "    main_text = str(self.dataset.loc[index,'text'])\n",
        "    reply_text = str(self.dataset.loc[index,'reply_text'])\n",
        "    labels = self.dataset.loc[index,'label']\n",
        "\n",
        "    encoding = self.tokenizer(main_text,\n",
        "                              #reply_text, ##Comment this when testing for main_text only\n",
        "                              padding='max_length',\n",
        "                              truncation=True,\n",
        "                              max_length=self.max_len,\n",
        "                              return_tensors='pt')\n",
        "    \n",
        "    tokens_ids_tensor = encoding['input_ids'].squeeze(0)\n",
        "    attention_mask = encoding['attention_mask'].squeeze(0)\n",
        "\n",
        "    return tokens_ids_tensor, attention_mask,labels\n",
        "  "
      ],
      "execution_count": null,
      "outputs": []
    },
    {
      "cell_type": "code",
      "metadata": {
        "id": "sn5Px9ib4qLZ",
        "collapsed": true
      },
      "source": [
        "import torch\n",
        "from torch.utils.data import Dataset\n",
        "from transformers import BertTokenizer, AutoTokenizer\n",
        "import pandas as pd\n",
        "\n",
        "#A Class that creates a tokenized IDS and attention mask values with respect to BERT BASE \n",
        "#This class is for test and COVID-19 data only\n",
        "class DatasetTokenizerTest(Dataset):\n",
        "\n",
        "  def __init__(self,dataset,max_len):\n",
        "    self.dataset=dataset\n",
        "    self.max_len= max_len\n",
        "    self.tokenizer = AutoTokenizer.from_pretrained('bert-base-uncased')\n",
        "  def __len__(self):\n",
        "    return len(self.dataset)\n",
        "  \n",
        "  def __getitem__(self,index):\n",
        "    main_text = str(self.dataset.loc[index,'text'])\n",
        "    reply_text = str(self.dataset.loc[index,'reply_text'])\n",
        "    combined_text = str(self.dataset.loc[index,'combined'])\n",
        "    encoding = self.tokenizer(main_text,\n",
        "                              #reply_text, ##Comment this when testing for main text only\n",
        "                              padding='max_length',\n",
        "                              truncation=True,\n",
        "                              max_length=self.max_len,\n",
        "                              return_tensors='pt')\n",
        "    \n",
        "    tokens_ids_tensor = encoding['input_ids'].squeeze(0)\n",
        "    attention_mask = encoding['attention_mask'].squeeze(0)\n",
        "  \n",
        "  \n",
        "    return tokens_ids_tensor, attention_mask"
      ],
      "execution_count": null,
      "outputs": []
    },
    {
      "cell_type": "code",
      "metadata": {
        "id": "LqaQ3pKCvkHg",
        "colab": {
          "base_uri": "https://localhost:8080/",
          "height": 66,
          "referenced_widgets": [
            "19ea7be30d4b42088f38c7a6b707f4e4",
            "c00f4d06c0a74a009c32f9a205780243",
            "028b7a8c59484896beea6d4810b990af",
            "836d854ba3ea43d1b994596c2dd1b1a9",
            "03da41bc6d2e41da9aa1ee10881d198a",
            "e0591894776a42abacfea3862b93a90e",
            "5eb01355588d4b67a9ea21fd4cee6595",
            "5324a120ecb246edadd9aba432529126"
          ]
        },
        "outputId": "141bd647-1f61-460e-8f13-30dbb578cf4a"
      },
      "source": [
        "dev_tokenized = DatasetTokenizer(x_dev_combined_df,max_len=512)\n",
        "train_tokenized = DatasetTokenizer(x_train_combined_df,max_len=512)\n",
        "test_tokenized = DatasetTokenizerTest(x_test_combined_df, max_len=512)\n"
      ],
      "execution_count": null,
      "outputs": [
        {
          "output_type": "display_data",
          "data": {
            "application/vnd.jupyter.widget-view+json": {
              "model_id": "19ea7be30d4b42088f38c7a6b707f4e4",
              "version_minor": 0,
              "version_major": 2
            },
            "text/plain": [
              "HBox(children=(FloatProgress(value=0.0, description='Downloading', max=570.0, style=ProgressStyle(description_…"
            ]
          },
          "metadata": {
            "tags": []
          }
        },
        {
          "output_type": "stream",
          "text": [
            "\n"
          ],
          "name": "stdout"
        }
      ]
    },
    {
      "cell_type": "code",
      "metadata": {
        "colab": {
          "base_uri": "https://localhost:8080/"
        },
        "id": "tCBzfq6S6IMD",
        "outputId": "181700e8-7aef-456d-dabe-a1be51d51bac"
      },
      "source": [
        "#Converting into Data Loaders using torch\n",
        "#Batch size 16 \n",
        "#Attempted batch size 32, but not enough resources\n",
        "from torch.utils.data import DataLoader\n",
        "\n",
        "dev_loader = DataLoader(dev_tokenized, batch_size=16, num_workers=5)\n",
        "train_loader = DataLoader(train_tokenized, batch_size=16, num_workers=5)\n",
        "test_loader = DataLoader(test_tokenized, batch_size=16, num_workers=5)\n"
      ],
      "execution_count": null,
      "outputs": [
        {
          "output_type": "stream",
          "text": [
            "/usr/local/lib/python3.7/dist-packages/torch/utils/data/dataloader.py:477: UserWarning: This DataLoader will create 5 worker processes in total. Our suggested max number of worker in current system is 2, which is smaller than what this DataLoader is going to create. Please be aware that excessive worker creation might get DataLoader running slow or even freeze, lower the worker number to avoid potential slowness/freeze if necessary.\n",
            "  cpuset_checked))\n"
          ],
          "name": "stderr"
        }
      ]
    },
    {
      "cell_type": "code",
      "metadata": {
        "id": "Mq2x6FEz6rwt"
      },
      "source": [
        "import torch\n",
        "import torch.nn as nn\n",
        "from transformers import BertModel\n",
        "\n",
        "\n",
        "class RumourClassifier(nn.Module):\n",
        "  def __init__(self):\n",
        "    super(RumourClassifier, self).__init__()\n",
        "  \n",
        "    self.bert_layer = BertModel.from_pretrained('bert-base-uncased')\n",
        "    \n",
        "    #Classification layer\n",
        "    #input dimension is 768 because BERT-BASE's hidden layer is 768\n",
        "    #output dimension is 1 because this is binary classification\n",
        "    self.cls_layer = nn.Linear(768, 1)\n",
        "\n",
        "\n",
        "  def forward(self, seq, attn_masks):\n",
        "   \n",
        "    #Feeding the input to BERT model to get contextualized representations\n",
        "    outputs = self.bert_layer(seq, attention_mask = attn_masks)\n",
        "    cont_reps = outputs.last_hidden_state\n",
        "\n",
        "    #Obtaining the representation the first token which is [CLS]\n",
        "    cls_rep = cont_reps[:, 0]\n",
        "\n",
        "    #Feeding cls_rep to the classifier layer\n",
        "    logits = self.cls_layer(cls_rep)\n",
        "\n",
        "    return logits"
      ],
      "execution_count": null,
      "outputs": []
    },
    {
      "cell_type": "code",
      "metadata": {
        "colab": {
          "base_uri": "https://localhost:8080/",
          "height": 172,
          "referenced_widgets": [
            "9141c728a29b42f8965c5e2c3fa7ba56",
            "b71f285970404f50a914639817653231",
            "036ff2164a29499eb21c41dbe6dc33d3",
            "704b2cc79601443da072eb83bef9183f",
            "c6136ef6976b471cb094a035e6c184fb",
            "b8063bf3043a4b1f9a3fce1326e5ca6c",
            "5277408b7f23438d888fd6469749be3a",
            "3e6e0f4aceeb4fd9a3540245da5fd320"
          ]
        },
        "id": "LXg04yHL8jr-",
        "outputId": "7d720eef-0e5c-450b-f4ad-04f1018ddec7"
      },
      "source": [
        "gpu = 0 #gpu ID\n",
        "print(\"Creating the rumour classifier, initialised with pretrained BERT-BASE parameters...\")\n",
        "net = RumourClassifier()\n",
        "net.cuda(gpu) #Enable gpu support for the model\n",
        "print(\"Done creating the rumour classifier.\")"
      ],
      "execution_count": null,
      "outputs": [
        {
          "output_type": "stream",
          "text": [
            "Creating the rumour classifier, initialised with pretrained BERT-BASE parameters...\n"
          ],
          "name": "stdout"
        },
        {
          "output_type": "display_data",
          "data": {
            "application/vnd.jupyter.widget-view+json": {
              "model_id": "9141c728a29b42f8965c5e2c3fa7ba56",
              "version_minor": 0,
              "version_major": 2
            },
            "text/plain": [
              "HBox(children=(FloatProgress(value=0.0, description='Downloading', max=440473133.0, style=ProgressStyle(descri…"
            ]
          },
          "metadata": {
            "tags": []
          }
        },
        {
          "output_type": "stream",
          "text": [
            "\n"
          ],
          "name": "stdout"
        },
        {
          "output_type": "stream",
          "text": [
            "Some weights of the model checkpoint at bert-base-uncased were not used when initializing BertModel: ['cls.predictions.transform.dense.bias', 'cls.predictions.transform.dense.weight', 'cls.seq_relationship.weight', 'cls.seq_relationship.bias', 'cls.predictions.bias', 'cls.predictions.decoder.weight', 'cls.predictions.transform.LayerNorm.weight', 'cls.predictions.transform.LayerNorm.bias']\n",
            "- This IS expected if you are initializing BertModel from the checkpoint of a model trained on another task or with another architecture (e.g. initializing a BertForSequenceClassification model from a BertForPreTraining model).\n",
            "- This IS NOT expected if you are initializing BertModel from the checkpoint of a model that you expect to be exactly identical (initializing a BertForSequenceClassification model from a BertForSequenceClassification model).\n"
          ],
          "name": "stderr"
        },
        {
          "output_type": "stream",
          "text": [
            "Done creating the rumour classifier.\n"
          ],
          "name": "stdout"
        }
      ]
    },
    {
      "cell_type": "code",
      "metadata": {
        "id": "MIdwuLCSEJho"
      },
      "source": [
        "import torch.nn as nn\n",
        "import torch.optim as optim\n",
        "\n",
        "#Intialized the optimizer using ADAM\n",
        "opti = optim.Adam(net.parameters(), lr = 2e-5)"
      ],
      "execution_count": null,
      "outputs": []
    },
    {
      "cell_type": "code",
      "metadata": {
        "id": "hekAunJileYV"
      },
      "source": [
        "import time\n",
        "\n",
        "def train(net, opti, train_loader, dev_loader, max_eps, gpu):\n",
        "\n",
        "    best_acc = 0\n",
        "    criterion = nn.BCEWithLogitsLoss()\n",
        "    st = time.time()\n",
        "    for ep in range(max_eps):\n",
        "        \n",
        "        for it, input_vals in enumerate(train_loader):\n",
        "            #Clear gradients\n",
        "            opti.zero_grad()  \n",
        "            #Converting to cuda tensors\n",
        "            seq, attn_masks, labels = input_vals[0].cuda(gpu), input_vals[1].cuda(gpu), input_vals[2].cuda(gpu)\n",
        "\n",
        "            #Get logits\n",
        "            logits = net(seq, attn_masks)\n",
        "\n",
        "            #Compute loss\n",
        "            loss = criterion(logits.squeeze(-1), labels.float())\n",
        "\n",
        "            #Backprop gradients\n",
        "            loss.backward()\n",
        "\n",
        "            #Optimization step\n",
        "            opti.step()\n",
        "              \n",
        "            if it % 100 == 0:\n",
        "                #Obtain probability and use softmax function\n",
        "                probs = torch.sigmoid(logits.unsqueeze(-1))\n",
        "                softmax_probs = (probs > 0.5).long()\n",
        "                acc = (softmax_probs.squeeze()==labels).float().mean()\n",
        "                print(\"Iteration {} of epoch {} complete. Loss: {}; Accuracy: {}; Time taken (s): {}\".format(it, ep+1, loss.item(), acc, (time.time()-st)))\n",
        "                st = time.time()\n",
        "\n",
        "        \n",
        "        dev_acc, dev_loss = evaluate(net, criterion, dev_loader, gpu)\n",
        "        print(\"Epoch {} complete! Development Accuracy: {}; Development Loss: {}\".format(ep+1, dev_acc, dev_loss))\n",
        "        #Save the best weights\n",
        "        if dev_acc > best_acc:\n",
        "            print(\"Best development accuracy improved from {} to {}, saving model...\".format(best_acc, dev_acc))\n",
        "            best_acc = dev_acc\n",
        "            torch.save(net.state_dict(), 'sstcls_{}.dat'.format(ep))"
      ],
      "execution_count": null,
      "outputs": []
    },
    {
      "cell_type": "code",
      "metadata": {
        "id": "7LWkpNsAFehC"
      },
      "source": [
        "def evaluate(net, criterion, dataloader, gpu):\n",
        "    net.eval()\n",
        "\n",
        "    mean_acc, mean_loss = 0, 0\n",
        "    count = 0\n",
        "\n",
        "    with torch.no_grad():\n",
        "        for input_data in dataloader:\n",
        "            #Converting to cuda tensors\n",
        "            seq, attn_masks, labels = input_data[0].cuda(gpu), input_data[1].cuda(gpu), input_data[2].cuda(gpu)\n",
        "            #get logits\n",
        "            logits = net(seq, attn_masks)\n",
        "            \n",
        "            #Obtain probability and use softmax function\n",
        "            probs = torch.sigmoid(logits.unsqueeze(-1))\n",
        "            softmax_probs = (probs > 0.5).long()\n",
        "            acc = (softmax_probs.squeeze() == labels).float().mean()\n",
        "\n",
        "            #Calculate mean loss and mean accuracy\n",
        "            mean_loss += criterion(logits.squeeze(-1), labels.float()).item()\n",
        "            mean_acc += acc\n",
        "            count += 1\n",
        "\n",
        "    return mean_acc / count, mean_loss / count"
      ],
      "execution_count": null,
      "outputs": []
    },
    {
      "cell_type": "code",
      "metadata": {
        "id": "6ByPg7F4FiJZ"
      },
      "source": [
        "num_epoch =2\n",
        "\n",
        "#fine-tune the model\n",
        "train(net, opti, train_loader, dev_loader, num_epoch, gpu)"
      ],
      "execution_count": null,
      "outputs": []
    },
    {
      "cell_type": "code",
      "metadata": {
        "id": "Lh-aIS5Y-Rv1"
      },
      "source": [
        "#Function to get the prediction for testing / COVID-19 file\n",
        "def get_preds(net, dataloader):\n",
        "  net = net.eval()\n",
        "\n",
        "  predictions =[]\n",
        "  prediction_probs=[]\n",
        "\n",
        "  with torch.no_grad():\n",
        "    for seq, attn_masks in dataloader:\n",
        "      #Converting to cuda tensors\n",
        "      seq, attn_masks= seq.cuda(gpu), attn_masks.cuda(gpu)\n",
        "\n",
        "      #Get logits value \n",
        "      logits = net(seq=seq,attn_masks = attn_masks)\n",
        "      _, preds = torch.max(logits,dim=1)\n",
        "\n",
        "      #Get probability and use softmax function \n",
        "      probs = torch.sigmoid(logits.unsqueeze(-1))\n",
        "      soft_probs = (probs > 0.5).long()\n",
        "\n",
        "      predictions.extend(preds)\n",
        "      prediction_probs.extend(soft_probs)\n",
        "\n",
        "  predictions = torch.stack(predictions).cpu()\n",
        "  prediction_probs=torch.stack(prediction_probs).cpu()\n",
        "\n",
        "  return predictions, prediction_probs"
      ],
      "execution_count": null,
      "outputs": []
    },
    {
      "cell_type": "code",
      "metadata": {
        "id": "2xHPxOBPdEr9"
      },
      "source": [
        "\n",
        "#Function to get the prediction for dev data\n",
        "def get_preds_dev(net, dataloader):\n",
        "  net = net.eval()\n",
        "\n",
        "  predictions =[]\n",
        "  prediction_probs=[]\n",
        "\n",
        "  with torch.no_grad():\n",
        "    for seq, attn_masks,labels in dataloader:\n",
        "      #Converting to cuda tensors\n",
        "      seq, attn_masks= seq.cuda(gpu), attn_masks.cuda(gpu)\n",
        "\n",
        "      #Get logits value \n",
        "      logits= net(seq=seq,attn_masks = attn_masks)\n",
        "      _, preds = torch.max(logits,dim=1)\n",
        "\n",
        "      #Get probability and use softmax function \n",
        "      probs = torch.sigmoid(logits.unsqueeze(-1))\n",
        "      soft_probs = (probs > 0.5).long()\n",
        "\n",
        "      predictions.extend(preds)\n",
        "      prediction_probs.extend(soft_probs)\n",
        "\n",
        "  predictions = torch.stack(predictions).cpu()\n",
        "  prediction_probs=torch.stack(prediction_probs).cpu()\n",
        "\n",
        "  return predictions, prediction_probs"
      ],
      "execution_count": null,
      "outputs": []
    },
    {
      "cell_type": "code",
      "metadata": {
        "id": "WMBkKUe-AZrw",
        "colab": {
          "base_uri": "https://localhost:8080/"
        },
        "outputId": "f8b9d1fa-52c7-4580-a8d6-7b683c7f6ee5"
      },
      "source": [
        "y_pred, y_pred_probs = get_preds(net,test_loader)"
      ],
      "execution_count": null,
      "outputs": [
        {
          "output_type": "stream",
          "text": [
            "/usr/local/lib/python3.7/dist-packages/torch/utils/data/dataloader.py:477: UserWarning: This DataLoader will create 5 worker processes in total. Our suggested max number of worker in current system is 2, which is smaller than what this DataLoader is going to create. Please be aware that excessive worker creation might get DataLoader running slow or even freeze, lower the worker number to avoid potential slowness/freeze if necessary.\n",
            "  cpuset_checked))\n"
          ],
          "name": "stderr"
        }
      ]
    },
    {
      "cell_type": "code",
      "metadata": {
        "colab": {
          "base_uri": "https://localhost:8080/"
        },
        "id": "ccy2t12Q-VgM",
        "outputId": "63caaac6-cc07-456d-9cfd-bdbe7fc3fa1c"
      },
      "source": [
        "dev_pred, dev_pred_probs = get_preds_dev(net, dev_loader)"
      ],
      "execution_count": null,
      "outputs": [
        {
          "output_type": "stream",
          "text": [
            "/usr/local/lib/python3.7/dist-packages/torch/utils/data/dataloader.py:477: UserWarning: This DataLoader will create 5 worker processes in total. Our suggested max number of worker in current system is 2, which is smaller than what this DataLoader is going to create. Please be aware that excessive worker creation might get DataLoader running slow or even freeze, lower the worker number to avoid potential slowness/freeze if necessary.\n",
            "  cpuset_checked))\n"
          ],
          "name": "stderr"
        }
      ]
    },
    {
      "cell_type": "code",
      "metadata": {
        "id": "xa68GCQgw4-1"
      },
      "source": [
        "#Detach the prediction from the cpu \n",
        "def detach_val(pred_probs):\n",
        "  detach = pred_probs.detach().cpu().numpy()\n",
        "  result = [] \n",
        "  for i in detach:\n",
        "    for j in i[0]:\n",
        "      result.append(j)\n",
        "  return result\n",
        "\n",
        "y_res = detach_val(y_pred_probs)\n",
        "dev_res = detach_val(dev_pred_probs)"
      ],
      "execution_count": null,
      "outputs": []
    },
    {
      "cell_type": "code",
      "metadata": {
        "id": "7m0dIxQbZADp"
      },
      "source": [
        "#A function to merge the test data predictions to their respective IDs and \n",
        "# download as json file\n",
        "def merge_data(data,pred,le):\n",
        "  y_data= data['id_str']\n",
        "  y_labels = le.inverse_transform(pred)\n",
        "  y_labels = pd.DataFrame(y_labels)\n",
        "\n",
        "  result = pd.concat([y_data,y_labels],axis=1)\n",
        "  json_format = result.set_index('id_str').to_dict()\n",
        "  \n",
        "  with open('test-output.json','w') as f:\n",
        "      json.dump(json_format[0],f)\n",
        "\n",
        "merge_data(x_test_combined_df,y_res,le)"
      ],
      "execution_count": null,
      "outputs": []
    },
    {
      "cell_type": "code",
      "metadata": {
        "id": "NffbYNwL-qkP"
      },
      "source": [
        "#A function to merge the dev data predictions to their respective IDs and \n",
        "# download as json file\n",
        "def merge_data_dev(data,pred,le):\n",
        "  y_data= data['id_str']\n",
        "  y_labels = le.inverse_transform(pred)\n",
        "  y_labels = pd.DataFrame(y_labels)\n",
        "\n",
        "  result = pd.concat([y_data,y_labels],axis=1)\n",
        "  json_format = result.set_index('id_str').to_dict()\n",
        "  \n",
        "  with open('test-output-dev.json','w') as f:\n",
        "      json.dump(json_format[0],f)\n",
        "\n",
        "merge_data_dev(x_dev_combined_df,dev_res,le)"
      ],
      "execution_count": null,
      "outputs": []
    },
    {
      "cell_type": "code",
      "metadata": {
        "id": "utLUzB4Xx6Wp"
      },
      "source": [
        "#Load the COVID-19 Data\n",
        "covid_data = '/content/drive/MyDrive/Data/covid.data.jsonl'\n",
        "covid_df = load_feat_df(covid_data)\n",
        "#Preprocessing of COVID-19 Data\n",
        "covid_combined_df = combine_tweets_test(covid_df)\n",
        "#Create torch instances\n",
        "covid_tokenized = DatasetTokenizerTest(covid_combined_df,max_len=512)\n",
        "covid_loader = DataLoader(covid_tokenized,batch_size=16,num_workers=5)"
      ],
      "execution_count": null,
      "outputs": []
    },
    {
      "cell_type": "code",
      "metadata": {
        "id": "NsUFJGs5Ar52"
      },
      "source": [
        "#Get Prediction \n",
        "covid_y_pred, covid_y_pred_probs = get_preds(net,covid_loader)\n",
        "covid_res = detach_val(covid_y_pred_probs)"
      ],
      "execution_count": null,
      "outputs": []
    },
    {
      "cell_type": "code",
      "metadata": {
        "id": "ZHPVB6YFXaIn"
      },
      "source": [
        "#A function to merge the COVID-19 data predictions to their respective IDs and \n",
        "# download as json file\n",
        "def merge_covid(data,pred,le):\n",
        "    y_labels = le.inverse_transform(pred)\n",
        "    y_labels = pd.DataFrame(y_labels)\n",
        "    y_labels.columns = ['label']\n",
        "\n",
        "    result = pd.concat([data,y_labels],axis=1)\n",
        "    json_covid = result.to_dict('records')\n",
        "  \n",
        "    with open('covid-labelled.json','w') as f:\n",
        "      json.dump(json_covid,f)\n",
        "merge_covid(covid_combined_df, covid_res,le)"
      ],
      "execution_count": null,
      "outputs": []
    }
  ]
}